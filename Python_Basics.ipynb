{
  "nbformat": 4,
  "nbformat_minor": 0,
  "metadata": {
    "colab": {
      "provenance": []
    },
    "kernelspec": {
      "name": "python3",
      "display_name": "Python 3"
    },
    "language_info": {
      "name": "python"
    }
  },
  "cells": [
    {
      "cell_type": "markdown",
      "source": [
        "# ***Python basic questions***\n"
      ],
      "metadata": {
        "id": "P1tpTTu8twbK"
      }
    },
    {
      "cell_type": "markdown",
      "source": [
        "# **1.What is Python, and why is it popular?**"
      ],
      "metadata": {
        "id": "hfZ_Pdfb6Qvi"
      }
    },
    {
      "cell_type": "markdown",
      "metadata": {
        "id": "4a1c0965"
      },
      "source": [
        "- Python is a high-level, interpreted programming language known for its readability and simplicity.\n",
        "\n",
        "Its popularity stems from several factors:\n",
        "\n",
        "* **Ease of learning:** Python's clear syntax makes it a great language for beginners.\n",
        "* **Versatility:** It can be used for web development, data science, artificial intelligence, scientific computing, and more.\n",
        "* **Large community and extensive libraries:** A vast collection of modules and frameworks are available, saving developers time and effort.\n",
        "* **Portability:** Python code can run on different operating systems without modification."
      ]
    },
    {
      "cell_type": "markdown",
      "source": [],
      "metadata": {
        "id": "bTRuJg8B6Nb1"
      }
    },
    {
      "cell_type": "markdown",
      "source": [
        "# **2.What is an interpreter in Python ?**"
      ],
      "metadata": {
        "id": "vrgryze8ufVc"
      }
    },
    {
      "cell_type": "markdown",
      "metadata": {
        "id": "75af1dad"
      },
      "source": [
        "- An interpreter is a program that directly executes instructions written in a programming or scripting language, without requiring them previously to have been compiled into a machine-language program. In Python, the interpreter reads and executes your code line by line. This is different from compiled languages (like C++ or Java) where the code is translated into machine code before execution.\n",
        "\n",
        "The Python interpreter does the following:\n",
        "\n",
        "1. **Parses the code:** It reads the code and checks for syntax errors.\n",
        "2. **Translates the code:** It translates the Python code into an intermediate code called bytecode.\n",
        "3. **Executes the bytecode:** The Python Virtual Machine (PVM) executes the bytecode."
      ]
    },
    {
      "cell_type": "markdown",
      "source": [
        "# **3.What are pre-defined keywords in Python ?**"
      ],
      "metadata": {
        "id": "LknFlDxEu33s"
      }
    },
    {
      "cell_type": "markdown",
      "metadata": {
        "id": "c932e15a"
      },
      "source": [
        "- Pre-defined keywords in Python are reserved words that have special meanings and cannot be used as identifiers (like variable names, function names, etc.). Here is a list of Python keywords:\n",
        "\n",
        "['False', 'None', 'True', 'and', 'as', 'assert', 'async', 'await', 'break', 'class', 'continue', 'def', 'del', 'elif', 'else', 'except', 'finally', 'for', 'from', 'global', 'if', 'import', 'in', 'is', 'lambda', 'nonlocal', 'not', 'or', 'pass', 'raise', 'return', 'try', 'while', 'with', 'yield']"
      ]
    },
    {
      "cell_type": "code",
      "metadata": {
        "colab": {
          "base_uri": "https://localhost:8080/"
        },
        "id": "ae5c5a4f",
        "outputId": "6b43e9fb-103a-446b-d7da-f9593494977d"
      },
      "source": [
        "import keyword\n",
        "print(keyword.kwlist)"
      ],
      "execution_count": null,
      "outputs": [
        {
          "output_type": "stream",
          "name": "stdout",
          "text": [
            "['False', 'None', 'True', 'and', 'as', 'assert', 'async', 'await', 'break', 'class', 'continue', 'def', 'del', 'elif', 'else', 'except', 'finally', 'for', 'from', 'global', 'if', 'import', 'in', 'is', 'lambda', 'nonlocal', 'not', 'or', 'pass', 'raise', 'return', 'try', 'while', 'with', 'yield']\n"
          ]
        }
      ]
    },
    {
      "cell_type": "markdown",
      "source": [
        "# **4.Can keywords be used as variable names ?**"
      ],
      "metadata": {
        "id": "FDnXsZigvmrl"
      }
    },
    {
      "cell_type": "markdown",
      "metadata": {
        "id": "25c4c5fe"
      },
      "source": [
        "- No, pre-defined keywords in Python cannot be used as variable names or any other identifiers. Doing so will result in a `SyntaxError`."
      ]
    },
    {
      "cell_type": "markdown",
      "source": [
        "# **5.What is mutability in Python?**"
      ],
      "metadata": {
        "id": "HB1w5HCKv8Rj"
      }
    },
    {
      "cell_type": "markdown",
      "metadata": {
        "id": "b349b7dc"
      },
      "source": [
        "- In Python, mutability refers to whether the state of an object can be modified after it is created.\n",
        "\n",
        "* **Mutable objects:** These objects can be changed after creation. Examples include lists, dictionaries, and sets.\n",
        "* **Immutable objects:** These objects cannot be changed after creation. Any operation that appears to modify an immutable object actually creates a new object. Examples include strings, numbers (integers, floats), and tuples.\n",
        "\n",
        "Understanding mutability is important because it affects how objects are handled in assignments, function calls, and comparisons."
      ]
    },
    {
      "cell_type": "markdown",
      "source": [
        "# **6.Why are lists mutable, but tuples are immutable ?**"
      ],
      "metadata": {
        "id": "myiM7xk6wZYL"
      }
    },
    {
      "cell_type": "markdown",
      "metadata": {
        "id": "8b039316"
      },
      "source": [
        "The key difference between lists and tuples in terms of mutability lies in their design and intended use:\n",
        "\n",
        "*   **Lists are designed for dynamic collections:** They are meant to be modified frequently, with elements added, removed, or changed. This is why they are mutable.\n",
        "\n",
        "*   **Tuples are designed for fixed collections:** They are meant to represent sequences of items that should not change. This immutability provides benefits like being usable as keys in dictionaries and ensuring data integrity in situations where the sequence should remain constant.\n",
        "\n",
        "While it's possible to create new tuples from existing ones (e.g., by concatenating), you cannot modify a tuple in-place after it's created. Any operation that seems to modify a tuple actually creates a new tuple in memory."
      ]
    },
    {
      "cell_type": "markdown",
      "metadata": {
        "id": "cb0746f1"
      },
      "source": [
        "Here's a demonstration of list mutability:\n",
        "\n",
        "Original list: [1, 2, 3]\n",
        "List after modifying an element: [10, 2, 3]\n",
        "List after adding an element: [10, 2, 3, 4]\n"
      ]
    },
    {
      "cell_type": "code",
      "source": [
        "my_list = [1, 2, 3]\n",
        "print(f\"Original list: {my_list}\")\n",
        "\n",
        "# Modify an element\n",
        "my_list[0] = 10\n",
        "print(f\"List after modifying an element: {my_list}\")\n",
        "\n",
        "# Add an element\n",
        "my_list.append(4)\n",
        "print(f\"List after adding an element: {my_list}\")"
      ],
      "metadata": {
        "colab": {
          "base_uri": "https://localhost:8080/"
        },
        "id": "Et544GBz5GuU",
        "outputId": "1243f6c2-bd50-4cb6-8774-ad6da5d2b9b4"
      },
      "execution_count": null,
      "outputs": [
        {
          "output_type": "stream",
          "name": "stdout",
          "text": [
            "Original list: [1, 2, 3]\n",
            "List after modifying an element: [10, 2, 3]\n",
            "List after adding an element: [10, 2, 3, 4]\n"
          ]
        }
      ]
    },
    {
      "cell_type": "markdown",
      "metadata": {
        "id": "8d153fbd"
      },
      "source": [
        "Here's a demonstration of tuple immutability:\n",
        "\n",
        "Original tuple: (1, 2, 3)\n",
        "Attempting to modify a tuple element results in: 'tuple' object does not support item assignment\n",
        "Attempting to append to a tuple results in: 'tuple' object has no attribute 'append'"
      ]
    },
    {
      "cell_type": "code",
      "metadata": {
        "colab": {
          "base_uri": "https://localhost:8080/"
        },
        "id": "f2774da1",
        "outputId": "d2656d9c-ce92-4d25-8b7f-cfad04df06be"
      },
      "source": [
        "my_tuple = (1, 2, 3)\n",
        "print(f\"Original tuple: {my_tuple}\")\n",
        "\n",
        "# Attempting to modify an element will raise a TypeError\n",
        "try:\n",
        "    my_tuple[0] = 10\n",
        "except TypeError as e:\n",
        "    print(f\"Attempting to modify a tuple element results in: {e}\")\n",
        "\n",
        "# Attempting to add an element will also raise a TypeError\n",
        "try:\n",
        "    my_tuple.append(4)\n",
        "except AttributeError as e:\n",
        "    print(f\"Attempting to append to a tuple results in: {e}\")"
      ],
      "execution_count": null,
      "outputs": [
        {
          "output_type": "stream",
          "name": "stdout",
          "text": [
            "Original tuple: (1, 2, 3)\n",
            "Attempting to modify a tuple element results in: 'tuple' object does not support item assignment\n",
            "Attempting to append to a tuple results in: 'tuple' object has no attribute 'append'\n"
          ]
        }
      ]
    },
    {
      "cell_type": "markdown",
      "source": [
        "# **7.What is the difference between “==” and “is” operators in Python ?**"
      ],
      "metadata": {
        "id": "hRJ5m7Wxw_ZI"
      }
    },
    {
      "cell_type": "markdown",
      "metadata": {
        "id": "8c925ba3"
      },
      "source": [
        "-In Python, the `==` and `is` operators are used for comparison, but they check for different things:\n",
        "\n",
        "*   **`==` (Equality operator):** This operator checks if the **values** of two operands are equal. It compares the content of the objects.\n",
        "\n",
        "*   **`is` (Identity operator):** This operator checks if two operands refer to the **same object** in memory. It compares the memory addresses of the objects.\n",
        "\n",
        "Here's a simple way to remember the difference:\n",
        "\n",
        "*   `==` compares what the objects **contain**.\n",
        "*   `is` compares what the objects **are** (their identity)."
      ]
    },
    {
      "cell_type": "markdown",
      "metadata": {
        "id": "010a58f9"
      },
      "source": [
        "Here are some examples to illustrate the difference:\n",
        "\n",
        "list1: [1, 2, 3]\n",
        "list2: [1, 2, 3]\n",
        "list3: [1, 2, 3]\n",
        "--------------------\n",
        "list1 == list2: True\n",
        "list1 == list3: True\n",
        "--------------------\n",
        "list1 is list2: False\n",
        "list1 is list3: True"
      ]
    },
    {
      "cell_type": "code",
      "metadata": {
        "colab": {
          "base_uri": "https://localhost:8080/"
        },
        "id": "f048932c",
        "outputId": "71ab2382-8202-4aa6-c136-a7d0470d1958"
      },
      "source": [
        "list1 = [1, 2, 3]\n",
        "list2 = [1, 2, 3]\n",
        "list3 = list1\n",
        "\n",
        "print(f\"list1: {list1}\")\n",
        "print(f\"list2: {list2}\")\n",
        "print(f\"list3: {list3}\")\n",
        "print(\"-\" * 20)\n",
        "\n",
        "# Using == to check for equality of values\n",
        "print(f\"list1 == list2: {list1 == list2}\") # True, values are the same\n",
        "print(f\"list1 == list3: {list1 == list3}\") # True, values are the same\n",
        "print(\"-\" * 20)\n",
        "\n",
        "# Using is to check for identity (same object in memory)\n",
        "print(f\"list1 is list2: {list1 is list2}\") # False, list1 and list2 are different objects\n",
        "print(f\"list1 is list3: {list1 is list3}\") # True, list1 and list3 refer to the same object"
      ],
      "execution_count": null,
      "outputs": [
        {
          "output_type": "stream",
          "name": "stdout",
          "text": [
            "list1: [1, 2, 3]\n",
            "list2: [1, 2, 3]\n",
            "list3: [1, 2, 3]\n",
            "--------------------\n",
            "list1 == list2: True\n",
            "list1 == list3: True\n",
            "--------------------\n",
            "list1 is list2: False\n",
            "list1 is list3: True\n"
          ]
        }
      ]
    },
    {
      "cell_type": "markdown",
      "source": [
        "# **8.What are logical operators in Python ?**"
      ],
      "metadata": {
        "id": "FnMtLFzBxShc"
      }
    },
    {
      "cell_type": "markdown",
      "metadata": {
        "id": "27260350"
      },
      "source": [
        "-Logical operators in Python are used to combine conditional statements and evaluate boolean values (`True` or `False`). The main logical operators are:\n",
        "\n",
        "*   **`and`:** Returns `True` if both operands are `True`.\n",
        "*   **`or`:** Returns `True` if at least one operand is `True`.\n",
        "*   **`not`:** Returns the opposite of the operand's boolean value.\n",
        "\n",
        "These operators are essential for creating complex conditions in `if` statements, `while` loops, and other control flow structures."
      ]
    },
    {
      "cell_type": "markdown",
      "metadata": {
        "id": "4978a567"
      },
      "source": [
        "Here are some examples of using logical operators:"
      ]
    },
    {
      "cell_type": "code",
      "metadata": {
        "colab": {
          "base_uri": "https://localhost:8080/"
        },
        "id": "d2ee5f5c",
        "outputId": "41aaf2aa-ee6b-4166-ca26-aebe4eec6a0b"
      },
      "source": [
        "x = 5\n",
        "y = 10\n",
        "\n",
        "print(f\"x = {x}, y = {y}\")\n",
        "print(\"-\" * 20)\n",
        "\n",
        "# Using 'and'\n",
        "print(f\"x > 0 and y > 0: {x > 0 and y > 0}\") # True\n",
        "print(f\"x > 0 and y < 0: {x > 0 and y < 0}\") # False\n",
        "print(\"-\" * 20)\n",
        "\n",
        "# Using 'or'\n",
        "print(f\"x > 0 or y < 0: {x > 0 or y < 0}\")   # True\n",
        "print(f\"x < 0 or y < 0: {x < 0 or y < 0}\")   # False\n",
        "print(\"-\" * 20)\n",
        "\n",
        "# Using 'not'\n",
        "print(f\"not (x > 0): {not (x > 0)}\")       # False\n",
        "print(f\"not (x < 0): {not (x < 0)}\")       # True"
      ],
      "execution_count": null,
      "outputs": [
        {
          "output_type": "stream",
          "name": "stdout",
          "text": [
            "x = 5, y = 10\n",
            "--------------------\n",
            "x > 0 and y > 0: True\n",
            "x > 0 and y < 0: False\n",
            "--------------------\n",
            "x > 0 or y < 0: True\n",
            "x < 0 or y < 0: False\n",
            "--------------------\n",
            "not (x > 0): False\n",
            "not (x < 0): True\n"
          ]
        }
      ]
    },
    {
      "cell_type": "markdown",
      "source": [
        "# **9.What is type casting in Python ?**"
      ],
      "metadata": {
        "id": "4mtaI-Wcxp-9"
      }
    },
    {
      "cell_type": "markdown",
      "metadata": {
        "id": "a19033ef"
      },
      "source": [
        "-Type casting (also known as type conversion) in Python is the process of converting a value from one data type to another. This is often necessary when you need to perform operations that require specific data types, or when you receive data in one format and need to use it in another.\n",
        "\n",
        "Python provides built-in functions for type casting, such as:\n",
        "\n",
        "*   `int()`: Converts a value to an integer.\n",
        "*   `float()`: Converts a value to a floating-point number.\n",
        "*   `str()`: Converts a value to a string.\n",
        "*   `list()`: Converts a sequence (like a tuple or string) to a list.\n",
        "*   `tuple()`: Converts a sequence (like a list or string) to a tuple.\n",
        "*   `dict()`: Converts a sequence of key-value pairs to a dictionary.\n",
        "*   `set()`: Converts a sequence to a set."
      ]
    },
    {
      "cell_type": "markdown",
      "metadata": {
        "id": "8faad955"
      },
      "source": [
        "Here are some examples of type casting:"
      ]
    },
    {
      "cell_type": "code",
      "metadata": {
        "colab": {
          "base_uri": "https://localhost:8080/"
        },
        "id": "0477117b",
        "outputId": "a8c09e62-b27e-46c8-b981-7378f29835bf"
      },
      "source": [
        "num_str = \"123\"\n",
        "num_int = int(num_str)\n",
        "print(f\"String to integer: {num_int}, type: {type(num_int)}\")\n",
        "\n",
        "num_float = float(num_str)\n",
        "print(f\"String to float: {num_float}, type: {type(num_float)}\")\n",
        "\n",
        "num = 456\n",
        "num_str_from_int = str(num)\n",
        "print(f\"Integer to string: {num_str_from_int}, type: {type(num_str_from_int)}\")\n",
        "\n",
        "my_list = [1, 2, 3]\n",
        "my_tuple_from_list = tuple(my_list)\n",
        "print(f\"List to tuple: {my_tuple_from_list}, type: {type(my_tuple_from_list)}\")\n",
        "\n",
        "my_tuple = (4, 5, 6)\n",
        "my_list_from_tuple = list(my_tuple)\n",
        "print(f\"Tuple to list: {my_list_from_tuple}, type: {type(my_list_from_tuple)}\")"
      ],
      "execution_count": null,
      "outputs": [
        {
          "output_type": "stream",
          "name": "stdout",
          "text": [
            "String to integer: 123, type: <class 'int'>\n",
            "String to float: 123.0, type: <class 'float'>\n",
            "Integer to string: 456, type: <class 'str'>\n",
            "List to tuple: (1, 2, 3), type: <class 'tuple'>\n",
            "Tuple to list: [4, 5, 6], type: <class 'list'>\n"
          ]
        }
      ]
    },
    {
      "cell_type": "markdown",
      "source": [
        "# **10.What is the difference between implicit and explicit type casting ?**"
      ],
      "metadata": {
        "id": "zQf8BsVlykzy"
      }
    },
    {
      "cell_type": "markdown",
      "metadata": {
        "id": "c8628b28"
      },
      "source": [
        "-In Python, there are two main types of type casting (or type conversion):\n",
        "\n",
        "*   **Implicit Type Casting (Coercion):** This is when Python automatically converts one data type to another without any user intervention. This usually happens during operations where Python needs to combine different data types. Python promotes the \"smaller\" data type to the \"larger\" data type to avoid data loss.\n",
        "\n",
        "*   **Explicit Type Casting:** This is when the user explicitly converts a data type to another using built-in functions like `int()`, `float()`, `str()`, etc. This is done when Python wouldn't automatically perform the conversion, or when you want to ensure a specific data type for an operation."
      ]
    },
    {
      "cell_type": "markdown",
      "metadata": {
        "id": "286ca431"
      },
      "source": [
        "Here are some examples to illustrate the difference:"
      ]
    },
    {
      "cell_type": "code",
      "metadata": {
        "colab": {
          "base_uri": "https://localhost:8080/"
        },
        "id": "40794209",
        "outputId": "7863dbe7-2247-458e-a45c-ffaa8f20a3d8"
      },
      "source": [
        "# Implicit Type Casting Example\n",
        "num_int = 10\n",
        "num_float = 5.5\n",
        "sum_result = num_int + num_float\n",
        "print(f\"Implicit casting: {num_int} + {num_float} = {sum_result}, type: {type(sum_result)}\")\n",
        "\n",
        "# Explicit Type Casting Example\n",
        "num_str = \"100\"\n",
        "num_int_explicit = int(num_str)\n",
        "print(f\"Explicit casting: str to int: {num_int_explicit}, type: {type(num_int_explicit)}\")\n",
        "\n",
        "num_float_explicit = float(num_int)\n",
        "print(f\"Explicit casting: int to float: {num_float_explicit}, type: {type(num_float_explicit)}\")"
      ],
      "execution_count": null,
      "outputs": [
        {
          "output_type": "stream",
          "name": "stdout",
          "text": [
            "Implicit casting: 10 + 5.5 = 15.5, type: <class 'float'>\n",
            "Explicit casting: str to int: 100, type: <class 'int'>\n",
            "Explicit casting: int to float: 10.0, type: <class 'float'>\n"
          ]
        }
      ]
    },
    {
      "cell_type": "markdown",
      "source": [
        "# **11.What is the purpose of conditional statements in Python ?**"
      ],
      "metadata": {
        "id": "oZ1wmt0NzG9a"
      }
    },
    {
      "cell_type": "markdown",
      "metadata": {
        "id": "4a68d8f2"
      },
      "source": [
        "-In Python, conditional statements allow you to execute different blocks of code based on whether a certain condition is true or false. This enables your program to make decisions and respond differently to various situations.\n",
        "\n",
        "The main conditional statements in Python are:\n",
        "\n",
        "*   **`if` statement:** Executes a block of code if a condition is true.\n",
        "*   **`elif` (else if) statement:** Checks another condition if the previous `if` or `elif` conditions were false.\n",
        "*   **`else` statement:** Executes a block of code if none of the preceding `if` or `elif` conditions are true.\n",
        "\n",
        "Conditional statements are fundamental for creating programs that can adapt to different inputs and scenarios."
      ]
    },
    {
      "cell_type": "markdown",
      "metadata": {
        "id": "1a7f5ea7"
      },
      "source": [
        "Here are some examples of using conditional statements:"
      ]
    },
    {
      "cell_type": "code",
      "metadata": {
        "colab": {
          "base_uri": "https://localhost:8080/"
        },
        "id": "32d0b3b8",
        "outputId": "eb2c7d89-d2c8-48fd-8631-2278b5627261"
      },
      "source": [
        "score = 85\n",
        "\n",
        "if score >= 90:\n",
        "    print(\"Excellent!\")\n",
        "elif score >= 70:\n",
        "    print(\"Good job!\")\n",
        "else:\n",
        "    print(\"Keep practicing.\")\n",
        "\n",
        "temperature = 25\n",
        "\n",
        "if temperature > 30:\n",
        "    print(\"It's a hot day!\")\n",
        "elif temperature > 20:\n",
        "    print(\"It's a pleasant day.\")\n",
        "else:\n",
        "    print(\"It's a bit cool.\")"
      ],
      "execution_count": null,
      "outputs": [
        {
          "output_type": "stream",
          "name": "stdout",
          "text": [
            "Good job!\n",
            "It's a pleasant day.\n"
          ]
        }
      ]
    },
    {
      "cell_type": "markdown",
      "source": [
        "## **12.How does the elif statement work ?**"
      ],
      "metadata": {
        "id": "1d6mo73jz3XR"
      }
    },
    {
      "cell_type": "markdown",
      "metadata": {
        "id": "c8084eef"
      },
      "source": [
        "The `elif` (short for \"else if\") statement in Python is used to check an additional condition if the preceding `if` or `elif` conditions are evaluated as `False`. It allows you to create a chain of conditions where only the block of code associated with the first `True` condition is executed.\n",
        "\n",
        "Here's the general structure:"
      ]
    },
    {
      "cell_type": "code",
      "source": [
        "score = 75\n",
        "\n",
        "if score >= 90:\n",
        "    print(\"Grade: A\")\n",
        "elif score >= 80:\n",
        "    print(\"Grade: B\")\n",
        "elif score >= 70:\n",
        "    print(\"Grade: C\")\n",
        "else:\n",
        "    print(\"Grade: Below C\")"
      ],
      "metadata": {
        "colab": {
          "base_uri": "https://localhost:8080/"
        },
        "id": "m352uK5v0GrS",
        "outputId": "9f19579d-451a-44fe-9f22-0de12987992d"
      },
      "execution_count": null,
      "outputs": [
        {
          "output_type": "stream",
          "name": "stdout",
          "text": [
            "Grade: C\n"
          ]
        }
      ]
    },
    {
      "cell_type": "markdown",
      "source": [
        "# **13.What is the difference between for and while loops ?**"
      ],
      "metadata": {
        "id": "QGqYl6q10RlZ"
      }
    },
    {
      "cell_type": "markdown",
      "metadata": {
        "id": "f09b2f29"
      },
      "source": [
        "-In Python, both `for` and `while` loops are used to execute a block of code repeatedly. However, they are typically used in different scenarios:\n",
        "\n",
        "*   **`for` loop:** Used for iterating over a sequence (like a list, tuple, string, or range) or other iterable objects. The loop continues as long as there are items in the sequence to iterate over. It's generally used when you know the number of iterations beforehand or when you need to process each item in a collection.\n",
        "\n",
        "*   **`while` loop:** Used to execute a block of code as long as a given condition is true. The loop continues as long as the condition evaluates to `True`. It's generally used when you don't know the exact number of iterations beforehand and the loop's termination depends on a condition changing during the loop's execution."
      ]
    },
    {
      "cell_type": "markdown",
      "metadata": {
        "id": "e5b3c32c"
      },
      "source": [
        "Here's an example of a `for` loop:"
      ]
    },
    {
      "cell_type": "code",
      "metadata": {
        "colab": {
          "base_uri": "https://localhost:8080/"
        },
        "id": "2e573f26",
        "outputId": "ff5ea27d-203d-476e-8aa4-5773ebc4c960"
      },
      "source": [
        "fruits = [\"apple\", \"banana\", \"cherry\"]\n",
        "for fruit in fruits:\n",
        "    print(fruit)"
      ],
      "execution_count": null,
      "outputs": [
        {
          "output_type": "stream",
          "name": "stdout",
          "text": [
            "apple\n",
            "banana\n",
            "cherry\n"
          ]
        }
      ]
    },
    {
      "cell_type": "markdown",
      "metadata": {
        "id": "d4bf5891"
      },
      "source": [
        "Here's an example of a `while` loop:"
      ]
    },
    {
      "cell_type": "code",
      "metadata": {
        "colab": {
          "base_uri": "https://localhost:8080/"
        },
        "id": "e7a5a3fb",
        "outputId": "7f1a1ce6-d44d-44e8-dbd4-8e76e9f0d314"
      },
      "source": [
        "count = 0\n",
        "while count < 5:\n",
        "    print(count)\n",
        "    count += 1"
      ],
      "execution_count": null,
      "outputs": [
        {
          "output_type": "stream",
          "name": "stdout",
          "text": [
            "0\n",
            "1\n",
            "2\n",
            "3\n",
            "4\n"
          ]
        }
      ]
    },
    {
      "cell_type": "markdown",
      "source": [
        "# **14.Describe a scenario where a while loop is more suitable than a for loop.?**"
      ],
      "metadata": {
        "id": "fQAMfiYE3pbk"
      }
    },
    {
      "cell_type": "markdown",
      "metadata": {
        "id": "fed3cef6"
      },
      "source": [
        "-A `while` loop is more suitable than a `for` loop when you don't know exactly how many times you need to repeat a block of code before the loop starts. The loop continues to execute as long as a specific condition is true.\n",
        "\n",
        "**Scenario:**\n",
        "\n",
        "Imagine you are writing a program that simulates rolling a six-sided die until you roll a 6. You don't know how many rolls it will take to get a 6. In this case, a `while` loop is more appropriate because you can set the condition to continue rolling as long as the result is not 6.\n",
        "\n",
        "Here's how you might implement this with a `while` loop:"
      ]
    },
    {
      "cell_type": "code",
      "metadata": {
        "colab": {
          "base_uri": "https://localhost:8080/"
        },
        "id": "bf62382e",
        "outputId": "2fc1ec07-fade-41d8-b2e1-d473f60e9d42"
      },
      "source": [
        "import random\n",
        "\n",
        "roll = 0\n",
        "while roll != 6:\n",
        "    roll = random.randint(1, 6)\n",
        "    print(f\"Rolled a {roll}\")\n",
        "\n",
        "print(\"Finally rolled a 6!\")"
      ],
      "execution_count": null,
      "outputs": [
        {
          "output_type": "stream",
          "name": "stdout",
          "text": [
            "Rolled a 3\n",
            "Rolled a 6\n",
            "Finally rolled a 6!\n"
          ]
        }
      ]
    },
    {
      "cell_type": "markdown",
      "source": [
        "# ***Practical questions***"
      ],
      "metadata": {
        "id": "pzeGe5XD63Oc"
      }
    },
    {
      "cell_type": "markdown",
      "source": [
        "# **1.Write a Python program to print \"Hello, World!\" ?**"
      ],
      "metadata": {
        "id": "5UoJxtvZ7DDX"
      }
    },
    {
      "cell_type": "code",
      "source": [
        "print(\"Hello, World!\")"
      ],
      "metadata": {
        "colab": {
          "base_uri": "https://localhost:8080/"
        },
        "id": "hggNYZjR7i8_",
        "outputId": "8c826eba-fc98-4be0-aacb-ca7667cd7596"
      },
      "execution_count": 31,
      "outputs": [
        {
          "output_type": "stream",
          "name": "stdout",
          "text": [
            "Hello, World!\n"
          ]
        }
      ]
    },
    {
      "cell_type": "markdown",
      "source": [
        "# **2.Write a Python program that displays your name and age ?**"
      ],
      "metadata": {
        "id": "bBZbppWs7_2j"
      }
    },
    {
      "cell_type": "code",
      "source": [
        "name = \"Kirti\" # Replace with your name\n",
        "age = 30 # Replace with your age\n",
        "\n",
        "\n",
        "print(f\"My name is {name} and I am {age} years old.\")"
      ],
      "metadata": {
        "colab": {
          "base_uri": "https://localhost:8080/"
        },
        "id": "59PWfkQq8Ko0",
        "outputId": "5858eba2-df17-4209-a2e3-a3b519a93f8a"
      },
      "execution_count": 65,
      "outputs": [
        {
          "output_type": "stream",
          "name": "stdout",
          "text": [
            "My name is Kirti and I am 30 years old.\n"
          ]
        }
      ]
    },
    {
      "cell_type": "markdown",
      "source": [
        "# **3.Write code to print all the pre-defined keywords in Python using the keyword library ?**"
      ],
      "metadata": {
        "id": "iO-_txh78nWQ"
      }
    },
    {
      "cell_type": "code",
      "source": [
        "import keyword\n",
        "print(keyword.kwlist)"
      ],
      "metadata": {
        "colab": {
          "base_uri": "https://localhost:8080/"
        },
        "id": "RZ0rgPX58tBZ",
        "outputId": "24a7caee-1f15-49f2-b48e-620bc1d9f581"
      },
      "execution_count": 37,
      "outputs": [
        {
          "output_type": "stream",
          "name": "stdout",
          "text": [
            "['False', 'None', 'True', 'and', 'as', 'assert', 'async', 'await', 'break', 'class', 'continue', 'def', 'del', 'elif', 'else', 'except', 'finally', 'for', 'from', 'global', 'if', 'import', 'in', 'is', 'lambda', 'nonlocal', 'not', 'or', 'pass', 'raise', 'return', 'try', 'while', 'with', 'yield']\n"
          ]
        }
      ]
    },
    {
      "cell_type": "markdown",
      "source": [
        "# **4. Write a program that checks if a given word is a Python keyword ?**"
      ],
      "metadata": {
        "id": "XuDgqAo2843h"
      }
    },
    {
      "cell_type": "code",
      "source": [
        "import keyword\n",
        "\n",
        "word_to_check = \"for\" # Replace with the word you want to check\n",
        "\n",
        "if keyword.iskeyword(word_to_check):\n",
        "    print(f\"'{word_to_check}' is a Python keyword.\")\n",
        "else:\n",
        "    print(f\"'{word_to_check}' is not a Python keyword.\")"
      ],
      "metadata": {
        "colab": {
          "base_uri": "https://localhost:8080/"
        },
        "id": "xbQn3YFp9Bw1",
        "outputId": "9ccf5b1f-38ba-4ce4-ab67-bad95b6b6905"
      },
      "execution_count": 41,
      "outputs": [
        {
          "output_type": "stream",
          "name": "stdout",
          "text": [
            "'for' is a Python keyword.\n"
          ]
        }
      ]
    },
    {
      "cell_type": "markdown",
      "source": [
        "# **5. Create a list and tuple in Python, and demonstrate how attempting to change an element works differently for each ?**\n"
      ],
      "metadata": {
        "id": "1S2vMePE9N50"
      }
    },
    {
      "cell_type": "code",
      "source": [
        "# Create a list and a tuple\n",
        "my_list = [1, 2, 3]\n",
        "my_tuple = (1, 2, 3)\n",
        "\n",
        "print(f\"Original list: {my_list}\")\n",
        "print(f\"Original tuple: {my_tuple}\")\n",
        "print(\"-\" * 20)\n",
        "\n",
        "# Attempt to change an element in the list\n",
        "try:\n",
        "    my_list[0] = 10\n",
        "    print(f\"List after attempting to change an element: {my_list}\")\n",
        "except TypeError as e:\n",
        "    print(f\"Attempting to change a list element results in: {e}\")\n",
        "\n",
        "print(\"-\" * 20)\n",
        "\n",
        "# Attempt to change an element in the tuple\n",
        "try:\n",
        "    my_tuple[0] = 10\n",
        "    print(f\"Tuple after attempting to change an element: {my_tuple}\")\n",
        "except TypeError as e:\n",
        "    print(f\"Attempting to change a tuple element results in: {e}\")"
      ],
      "metadata": {
        "colab": {
          "base_uri": "https://localhost:8080/"
        },
        "id": "Fvnckcp69oyH",
        "outputId": "ac1cb8c4-a652-4d73-d44a-b4aad86816fa"
      },
      "execution_count": 44,
      "outputs": [
        {
          "output_type": "stream",
          "name": "stdout",
          "text": [
            "Original list: [1, 2, 3]\n",
            "Original tuple: (1, 2, 3)\n",
            "--------------------\n",
            "List after attempting to change an element: [10, 2, 3]\n",
            "--------------------\n",
            "Attempting to change a tuple element results in: 'tuple' object does not support item assignment\n"
          ]
        }
      ]
    },
    {
      "cell_type": "markdown",
      "source": [
        "# **6. Write a function to demonstrate the behavior of mutable and immutable arguments ?**"
      ],
      "metadata": {
        "id": "SUFGhMhG-Udu"
      }
    },
    {
      "cell_type": "code",
      "source": [
        "def modify_mutable(my_list):\n",
        "  \"\"\"Demonstrates modifying a mutable argument (list).\"\"\"\n",
        "  my_list.append(4)\n",
        "  print(f\"Inside function (mutable): {my_list}\")\n",
        "\n",
        "def modify_immutable(my_string):\n",
        "  \"\"\"Demonstrates attempting to modify an immutable argument (string).\"\"\"\n",
        "  my_string = my_string + \" World!\"\n",
        "  print(f\"Inside function (immutable): {my_string}\")\n",
        "\n",
        "# Demonstrate with a mutable object (list)\n",
        "my_list = [1, 2, 3]\n",
        "print(f\"Before function call (mutable): {my_list}\")\n",
        "modify_mutable(my_list)\n",
        "print(f\"After function call (mutable): {my_list}\")\n",
        "\n",
        "print(\"-\" * 20)\n",
        "\n",
        "# Demonstrate with an immutable object (string)\n",
        "my_string = \"Hello\"\n",
        "print(f\"Before function call (immutable): {my_string}\")\n",
        "modify_immutable(my_string)\n",
        "print(f\"After function call (immutable): {my_string}\")"
      ],
      "metadata": {
        "colab": {
          "base_uri": "https://localhost:8080/"
        },
        "id": "qHlrztBf-esO",
        "outputId": "8346ff5b-7ac5-4ca5-82c2-ccd931a2d2ea"
      },
      "execution_count": 46,
      "outputs": [
        {
          "output_type": "stream",
          "name": "stdout",
          "text": [
            "Before function call (mutable): [1, 2, 3]\n",
            "Inside function (mutable): [1, 2, 3, 4]\n",
            "After function call (mutable): [1, 2, 3, 4]\n",
            "--------------------\n",
            "Before function call (immutable): Hello\n",
            "Inside function (immutable): Hello World!\n",
            "After function call (immutable): Hello\n"
          ]
        }
      ]
    },
    {
      "cell_type": "markdown",
      "source": [
        "# **7. Write a program that performs basic arithmetic operations on two user-input numbers ?**"
      ],
      "metadata": {
        "id": "L6XuJSsf-prb"
      }
    },
    {
      "cell_type": "code",
      "source": [
        "# Get input from the user\n",
        "num1 = float(input(\"Enter the first number: \"))\n",
        "num2 = float(input(\"Enter the second number: \"))\n",
        "\n",
        "# Perform basic arithmetic operations\n",
        "sum_result = num1 + num2\n",
        "difference = num1 - num2\n",
        "product = num1 * num2\n",
        "\n",
        "# Check for division by zero before performing division\n",
        "if num2 != 0:\n",
        "    division = num1 / num2\n",
        "    print(f\"Sum: {sum_result}\")\n",
        "    print(f\"Difference: {difference}\")\n",
        "    print(f\"Product: {product}\")\n",
        "    print(f\"Division: {division}\")\n",
        "else:\n",
        "    print(\"Cannot perform division by zero.\")"
      ],
      "metadata": {
        "colab": {
          "base_uri": "https://localhost:8080/"
        },
        "id": "jlGxzFM3-1KU",
        "outputId": "0284e704-f5aa-42cd-aa96-f18769d4eb92"
      },
      "execution_count": 47,
      "outputs": [
        {
          "output_type": "stream",
          "name": "stdout",
          "text": [
            "Enter the first number: 25\n",
            "Enter the second number: 35\n",
            "Sum: 60.0\n",
            "Difference: -10.0\n",
            "Product: 875.0\n",
            "Division: 0.7142857142857143\n"
          ]
        }
      ]
    },
    {
      "cell_type": "markdown",
      "source": [
        "# **8. Write a program to demonstrate the use of logical operators ?**"
      ],
      "metadata": {
        "id": "A0gn5017AWBF"
      }
    },
    {
      "cell_type": "code",
      "source": [
        "x = 10\n",
        "y = 5\n",
        "\n",
        "print(f\"x = {x}, y = {y}\")\n",
        "print(\"-\" * 20)\n",
        "\n",
        "# Using 'and'\n",
        "print(f\"x > 0 and y > 0: {x > 0 and y > 0}\") # True\n",
        "print(f\"x > 0 and y < 0: {x > 0 and y < 0}\") # False\n",
        "print(\"-\" * 20)\n",
        "\n",
        "# Using 'or'\n",
        "print(f\"x > 0 or y < 0: {x > 0 or y < 0}\")   # True\n",
        "print(f\"x < 0 or y < 0: {x < 0 or y < 0}\")   # False\n",
        "print(\"-\" * 20)\n",
        "\n",
        "# Using 'not'\n",
        "print(f\"not (x > 0): {not (x > 0)}\")       # False\n",
        "print(f\"not (x < 0): {not (x < 0)}\")       # True"
      ],
      "metadata": {
        "colab": {
          "base_uri": "https://localhost:8080/"
        },
        "id": "_cl8GCmBApqA",
        "outputId": "d80821b7-a4c7-4aab-ec5f-9a6ccedfb7cd"
      },
      "execution_count": 49,
      "outputs": [
        {
          "output_type": "stream",
          "name": "stdout",
          "text": [
            "x = 10, y = 5\n",
            "--------------------\n",
            "x > 0 and y > 0: True\n",
            "x > 0 and y < 0: False\n",
            "--------------------\n",
            "x > 0 or y < 0: True\n",
            "x < 0 or y < 0: False\n",
            "--------------------\n",
            "not (x > 0): False\n",
            "not (x < 0): True\n"
          ]
        }
      ]
    },
    {
      "cell_type": "markdown",
      "source": [
        "## **9. Write a Python program to convert user input from string to integer, float, and boolean types ?**"
      ],
      "metadata": {
        "id": "tZLLP9HMBBmY"
      }
    },
    {
      "cell_type": "code",
      "source": [
        "# Get user input as a string\n",
        "user_input_str = input(\"Enter a value: \")\n",
        "\n",
        "# Convert to integer (handle potential errors)\n",
        "try:\n",
        "    int_value = int(user_input_str)\n",
        "    print(f\"Converted to integer: {int_value}, type: {type(int_value)}\")\n",
        "except ValueError:\n",
        "    print(f\"Could not convert '{user_input_str}' to integer.\")\n",
        "\n",
        "# Convert to float (handle potential errors)\n",
        "try:\n",
        "    float_value = float(user_input_str)\n",
        "    print(f\"Converted to float: {float_value}, type: {type(float_value)}\")\n",
        "except ValueError:\n",
        "    print(f\"Could not convert '{user_input_str}' to float.\")\n",
        "\n",
        "# Convert to boolean (consider different string representations of boolean)\n",
        "# You can define what strings should be considered True or False\n",
        "if user_input_str.lower() in ['true', 'yes', '1']:\n",
        "    bool_value = True\n",
        "    print(f\"Converted to boolean: {bool_value}, type: {type(bool_value)}\")\n",
        "elif user_input_str.lower() in ['false', 'no', '0']:\n",
        "    bool_value = False\n",
        "    print(f\"Converted to boolean: {bool_value}, type: {type(bool_value)}\")\n",
        "else:\n",
        "    # This will also evaluate non-empty strings as True, which is Python's default boolean conversion\n",
        "    # If you want stricter boolean conversion, you would only include specific strings\n",
        "    bool_value = bool(user_input_str)\n",
        "    print(f\"Converted to boolean: {bool_value}, type: {type(bool_value)}\")"
      ],
      "metadata": {
        "colab": {
          "base_uri": "https://localhost:8080/"
        },
        "id": "7MBDHQQrBRIa",
        "outputId": "01a2f548-81a7-4efb-c71f-13779989fe83"
      },
      "execution_count": 51,
      "outputs": [
        {
          "output_type": "stream",
          "name": "stdout",
          "text": [
            "Enter a value: 25\n",
            "Converted to integer: 25, type: <class 'int'>\n",
            "Converted to float: 25.0, type: <class 'float'>\n",
            "Converted to boolean: True, type: <class 'bool'>\n"
          ]
        }
      ]
    },
    {
      "cell_type": "markdown",
      "source": [
        "# **10. Write code to demonstrate type casting with list  ?**"
      ],
      "metadata": {
        "id": "L-bOnzryBld8"
      }
    },
    {
      "cell_type": "code",
      "source": [
        "# Create a list with elements of different types\n",
        "my_list = [\"1\", 2, 3.5, \"True\"]\n",
        "print(f\"Original list: {my_list}, types: {[type(item) for item in my_list]}\")\n",
        "\n",
        "# Type casting elements in the list\n",
        "# Convert the first element (string) to integer\n",
        "my_list[0] = int(my_list[0])\n",
        "\n",
        "# Convert the second element (integer) to float\n",
        "my_list[1] = float(my_list[1])\n",
        "\n",
        "# Convert the third element (float) to integer (will truncate the decimal)\n",
        "my_list[2] = int(my_list[2])\n",
        "\n",
        "# Convert the fourth element (string) to boolean (based on its value)\n",
        "my_list[3] = bool(my_list[3])\n",
        "\n",
        "print(f\"List after type casting: {my_list}, types: {[type(item) for item in my_list]}\")\n",
        "\n",
        "# Example of converting all elements to strings\n",
        "my_list_as_strings = [str(item) for item in my_list]\n",
        "print(f\"List with all elements as strings: {my_list_as_strings}, types: {[type(item) for item in my_list_as_strings]}\")"
      ],
      "metadata": {
        "colab": {
          "base_uri": "https://localhost:8080/"
        },
        "id": "9G8tP9quBvVk",
        "outputId": "b71b3ad6-c7d0-4e8c-e2b0-ee5a42fd6ef7"
      },
      "execution_count": 54,
      "outputs": [
        {
          "output_type": "stream",
          "name": "stdout",
          "text": [
            "Original list: ['1', 2, 3.5, 'True'], types: [<class 'str'>, <class 'int'>, <class 'float'>, <class 'str'>]\n",
            "List after type casting: [1, 2.0, 3, True], types: [<class 'int'>, <class 'float'>, <class 'int'>, <class 'bool'>]\n",
            "List with all elements as strings: ['1', '2.0', '3', 'True'], types: [<class 'str'>, <class 'str'>, <class 'str'>, <class 'str'>]\n"
          ]
        }
      ]
    },
    {
      "cell_type": "markdown",
      "source": [
        "# **11. Write a program that checks if a number is positive, negative, or zero ?**"
      ],
      "metadata": {
        "id": "8fMSPy6mCInv"
      }
    },
    {
      "cell_type": "code",
      "source": [
        "# Get input from the user\n",
        "num = float(input(\"Enter a number: \"))\n",
        "\n",
        "# Check if the number is positive, negative, or zero\n",
        "if num > 0:\n",
        "    print(f\"{num} is a positive number.\")\n",
        "elif num < 0:\n",
        "    print(f\"{num} is a negative number.\")\n",
        "else:\n",
        "    print(f\"{num} is zero.\")"
      ],
      "metadata": {
        "colab": {
          "base_uri": "https://localhost:8080/"
        },
        "id": "n4M-uPi1CRXc",
        "outputId": "be4f711c-02cc-4246-cdc8-92006e79dbf4"
      },
      "execution_count": 56,
      "outputs": [
        {
          "output_type": "stream",
          "name": "stdout",
          "text": [
            "Enter a number: 18\n",
            "18.0 is a positive number.\n"
          ]
        }
      ]
    },
    {
      "cell_type": "markdown",
      "source": [
        "# **12. Write a for loop to print numbers from 1 to 10 ?**"
      ],
      "metadata": {
        "id": "ZfGCj5mZCgoE"
      }
    },
    {
      "cell_type": "code",
      "source": [
        "for i in range(1, 11):\n",
        "    print(i)"
      ],
      "metadata": {
        "colab": {
          "base_uri": "https://localhost:8080/"
        },
        "id": "yugbj_n2Cpg8",
        "outputId": "d4ce0b07-8a58-46b0-c7cc-b7fdd97e0803"
      },
      "execution_count": 58,
      "outputs": [
        {
          "output_type": "stream",
          "name": "stdout",
          "text": [
            "1\n",
            "2\n",
            "3\n",
            "4\n",
            "5\n",
            "6\n",
            "7\n",
            "8\n",
            "9\n",
            "10\n"
          ]
        }
      ]
    },
    {
      "cell_type": "markdown",
      "source": [
        "# **13. Write a Python program to find the sum of all even numbers between 1 and 50 ?**"
      ],
      "metadata": {
        "id": "--LOlfxVC2Na"
      }
    },
    {
      "cell_type": "code",
      "source": [
        "total_sum = 0\n",
        "for number in range(1, 51):\n",
        "  if number % 2 == 0:\n",
        "    total_sum += number\n",
        "print(f\"The sum of even numbers between 1 and 50 is: {total_sum}\")"
      ],
      "metadata": {
        "colab": {
          "base_uri": "https://localhost:8080/"
        },
        "id": "J93XVMHWDBiy",
        "outputId": "e13fd83c-0ea9-4100-cd4d-522fd202e8d9"
      },
      "execution_count": 60,
      "outputs": [
        {
          "output_type": "stream",
          "name": "stdout",
          "text": [
            "The sum of even numbers between 1 and 50 is: 650\n"
          ]
        }
      ]
    },
    {
      "cell_type": "markdown",
      "source": [
        "# **14. Write a program to reverse a string using a while loop ?**"
      ],
      "metadata": {
        "id": "Lh7GQOEoDMXF"
      }
    },
    {
      "cell_type": "code",
      "source": [
        "input_string = \"Hello, Python!\"\n",
        "reversed_string = \"\"\n",
        "index = len(input_string) - 1\n",
        "\n",
        "while index >= 0:\n",
        "  reversed_string += input_string[index]\n",
        "  index -= 1\n",
        "\n",
        "print(f\"Original string: {input_string}\")\n",
        "print(f\"Reversed string: {reversed_string}\")"
      ],
      "metadata": {
        "colab": {
          "base_uri": "https://localhost:8080/"
        },
        "id": "o1g4e6H4DX41",
        "outputId": "c6f6884b-9ef9-49fa-939c-ead863ac11ae"
      },
      "execution_count": 62,
      "outputs": [
        {
          "output_type": "stream",
          "name": "stdout",
          "text": [
            "Original string: Hello, Python!\n",
            "Reversed string: !nohtyP ,olleH\n"
          ]
        }
      ]
    },
    {
      "cell_type": "markdown",
      "source": [
        "# **15. Write a Python program to calculate the factorial of a number provided by the user using a while loop ?**"
      ],
      "metadata": {
        "id": "y1Zs6yWxDlFB"
      }
    },
    {
      "cell_type": "code",
      "source": [
        "# Get input from the user\n",
        "num = int(input(\"Enter a non-negative integer: \"))\n",
        "\n",
        "# Check if the number is negative\n",
        "if num < 0:\n",
        "   print(\"Factorial does not exist for negative numbers\")\n",
        "elif num == 0:\n",
        "   print(\"The factorial of 0 is 1\")\n",
        "else:\n",
        "   factorial = 1\n",
        "   i = 1\n",
        "   while i <= num:\n",
        "       factorial *= i\n",
        "       i += 1\n",
        "   print(f\"The factorial of {num} is {factorial}\")"
      ],
      "metadata": {
        "colab": {
          "base_uri": "https://localhost:8080/"
        },
        "id": "d7JQFfj2Dx7F",
        "outputId": "631dbea2-be71-44a9-c9a6-aa3cdd0e1376"
      },
      "execution_count": 64,
      "outputs": [
        {
          "output_type": "stream",
          "name": "stdout",
          "text": [
            "Enter a non-negative integer: 6\n",
            "The factorial of 6 is 720\n"
          ]
        }
      ]
    },
    {
      "cell_type": "code",
      "source": [],
      "metadata": {
        "id": "ZfiG0_GqD9zp"
      },
      "execution_count": null,
      "outputs": []
    }
  ]
}