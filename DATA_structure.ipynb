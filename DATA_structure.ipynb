{
  "nbformat": 4,
  "nbformat_minor": 0,
  "metadata": {
    "colab": {
      "provenance": []
    },
    "kernelspec": {
      "name": "python3",
      "display_name": "Python 3"
    },
    "language_info": {
      "name": "python"
    }
  },
  "cells": [
    {
      "cell_type": "markdown",
      "source": [
        "# **Data Types and Structures Questions**\n"
      ],
      "metadata": {
        "id": "64NAS6iLmjmI"
      }
    },
    {
      "cell_type": "markdown",
      "source": [
        "# **1. What are data structures, and why are they important?**"
      ],
      "metadata": {
        "id": "vhlwdibEmqjA"
      }
    },
    {
      "cell_type": "markdown",
      "metadata": {
        "id": "34c7d1d7"
      },
      "source": [
        "-Data structures are ways of organizing and storing data in a computer so that it can be accessed and modified efficiently. They are crucial because they:\n",
        "\n",
        "*   **Improve efficiency:** Choosing the right data structure can significantly speed up operations like searching, sorting, and inserting data.\n",
        "*   **Organize data:** They provide a clear and logical way to arrange data, making code easier to understand and maintain.\n",
        "*   **Enable algorithms:** Many algorithms rely on specific data structures to function correctly and efficiently.\n",
        "\n",
        "Think of data structures as containers for your data, each with its own strengths and weaknesses depending on how you need to use the data. Examples include lists, tuples, dictionaries, sets, trees, graphs, and more."
      ]
    },
    {
      "cell_type": "markdown",
      "source": [
        "# **2. Explain the difference between mutable and immutable data types with examples?**"
      ],
      "metadata": {
        "id": "DKYUfEVbnfmB"
      }
    },
    {
      "cell_type": "markdown",
      "metadata": {
        "id": "ff551946"
      },
      "source": [
        "-In Python, data types can be broadly categorized as either mutable or immutable. This distinction refers to whether or not the state of an object can be changed after it is created.\n",
        "\n",
        "*   **Mutable data types:** The state of objects of these types can be changed after they are created. This means you can modify their contents in place without creating a new object.\n",
        "*   **Immutable data types:** The state of objects of these types cannot be changed after they are created. Any operation that appears to modify an immutable object actually creates a new object with the desired changes.\n",
        "\n",
        "Understanding this difference is important because it affects how you work with data and how your code behaves."
      ]
    },
    {
      "cell_type": "markdown",
      "metadata": {
        "id": "9da9adf3"
      },
      "source": [
        "Here are some common examples of mutable and immutable data types in Python:\n",
        "\n",
        "**Mutable:**\n",
        "\n",
        "*   **Lists:** Ordered collections that can be changed.\n",
        "*   **Dictionaries:** Unordered collections of key-value pairs that can be changed.\n",
        "*   **Sets:** Unordered collections of unique elements that can be changed.\n",
        "\n",
        "**Immutable:**\n",
        "\n",
        "*   **Integers:** Whole numbers.\n",
        "*   **Floats:** Numbers with decimal points.\n",
        "*   **Strings:** Sequences of characters.\n",
        "*   **Tuples:** Ordered collections that cannot be changed."
      ]
    },
    {
      "cell_type": "markdown",
      "metadata": {
        "id": "e20745b5"
      },
      "source": [
        "Let's look at examples of modifying a mutable list versus attempting to modify an immutable string:"
      ]
    },
    {
      "cell_type": "code",
      "metadata": {
        "colab": {
          "base_uri": "https://localhost:8080/"
        },
        "id": "61f3ebf4",
        "outputId": "f6e0bcad-ccbc-464d-ed00-4cda8c3db2ad"
      },
      "source": [
        "# Example of a mutable list\n",
        "my_list = [1, 2, 3]\n",
        "print(f\"Original list: {my_list}\")\n",
        "\n",
        "# Modify the list\n",
        "my_list.append(4)\n",
        "print(f\"List after appending an element: {my_list}\")\n",
        "\n",
        "my_list[0] = 10\n",
        "print(f\"List after changing an element: {my_list}\")\n",
        "\n",
        "# Example of an immutable string\n",
        "my_string = \"hello\"\n",
        "print(f\"Original string: {my_string}\")\n",
        "\n",
        "# Attempting to modify the string (this will cause an error)\n",
        "try:\n",
        "    my_string[0] = \"H\"\n",
        "except TypeError as e:\n",
        "    print(f\"Error when trying to modify string: {e}\")\n",
        "\n",
        "# To \"modify\" a string, you create a new one\n",
        "new_string = my_string.upper()\n",
        "print(f\"New string after converting to uppercase: {new_string}\")"
      ],
      "execution_count": null,
      "outputs": [
        {
          "output_type": "stream",
          "name": "stdout",
          "text": [
            "Original list: [1, 2, 3]\n",
            "List after appending an element: [1, 2, 3, 4]\n",
            "List after changing an element: [10, 2, 3, 4]\n",
            "Original string: hello\n",
            "Error when trying to modify string: 'str' object does not support item assignment\n",
            "New string after converting to uppercase: HELLO\n"
          ]
        }
      ]
    },
    {
      "cell_type": "markdown",
      "source": [
        "# **3. What are the main differences between lists and tuples in Python?**"
      ],
      "metadata": {
        "id": "2ZiQ8G3un2di"
      }
    },
    {
      "cell_type": "markdown",
      "metadata": {
        "id": "8d5cd891"
      },
      "source": [
        "-The main differences between lists and tuples in Python are:\n",
        "\n",
        "*   **Mutability:** Lists are mutable, meaning their elements can be changed after creation. Tuples are immutable, meaning their elements cannot be changed after creation.\n",
        "*   **Syntax:** Lists are defined using square brackets `[]`, while tuples are defined using parentheses `()`.\n",
        "*   **Performance:** Tuples are generally faster than lists because of their immutability. Since their size is fixed, Python can optimize their storage and access.\n",
        "*   **Use Cases:** Lists are typically used for collections of items that may need to be modified (e.g., adding, removing, or changing elements). Tuples are often used for collections of related items that should not be changed (e.g., coordinates, database records, function arguments)."
      ]
    },
    {
      "cell_type": "markdown",
      "source": [
        "# **4. Describe how dictionaries store data?**"
      ],
      "metadata": {
        "id": "BOVeCxsooB24"
      }
    },
    {
      "cell_type": "markdown",
      "metadata": {
        "id": "fc1de5b7"
      },
      "source": [
        "-Dictionaries in Python store data as key-value pairs. Each key is unique and maps to a specific value. Think of it like a real-world dictionary where you look up a word (the key) to find its definition (the value).\n",
        "\n",
        "Here's a breakdown of how they work:\n",
        "\n",
        "*   **Keys:** Keys are used to access the values. They must be immutable and unique (e.g., strings, numbers, tuples).\n",
        "*   **Values:** Values are the data associated with the keys. They can be of any data type and do not have to be unique.\n",
        "*   **Mapping:** The dictionary maintains a mapping between each key and its corresponding value.\n",
        "\n",
        "When you access a dictionary using a key, Python quickly finds the location of the associated value based on the key's hash value. This makes dictionaries very efficient for looking up data based on a specific identifier."
      ]
    },
    {
      "cell_type": "markdown",
      "source": [
        "# **5. Why might you use a set instead of a list in Python?**"
      ],
      "metadata": {
        "id": "VweoG2kRoUdo"
      }
    },
    {
      "cell_type": "markdown",
      "metadata": {
        "id": "16696158"
      },
      "source": [
        "-You might choose to use a set instead of a list in Python for several reasons, primarily related to sets' unique properties:\n",
        "\n",
        "*   **Uniqueness:** Sets automatically store only unique elements. If you have a collection where you need to ensure that each item appears only once, using a set is a simple and efficient way to achieve this. Adding duplicate elements to a set has no effect.\n",
        "*   **Membership Testing:** Checking if an element is present in a set is significantly faster on average compared to checking for membership in a list, especially for large collections. This is because sets are implemented using hash tables.\n",
        "*   **Mathematical Set Operations:** Sets support mathematical operations like union, intersection, difference, and symmetric difference, which are very useful for tasks involving comparing and combining collections of unique elements.\n",
        "*   **No Order:** Unlike lists, sets do not maintain the order of elements. If the order of your elements is not important, a set can be a good choice.\n",
        "\n",
        "In summary, use a set when you need a collection of unique items, require fast membership testing, or plan to perform mathematical set operations. Use a list when you need to maintain the order of elements, allow duplicate elements, or frequently modify the collection by index."
      ]
    },
    {
      "cell_type": "markdown",
      "source": [
        "# **6. What is a string in Python, and how is it different from a list?**"
      ],
      "metadata": {
        "id": "u92Bapxzojcg"
      }
    },
    {
      "cell_type": "markdown",
      "metadata": {
        "id": "5de1d65d"
      },
      "source": [
        "-A string in Python is a sequence of characters. It is an immutable data type, meaning that once a string is created, its individual characters cannot be changed. Strings are used to represent text.\n",
        "\n",
        "Here's how strings differ from lists:\n",
        "\n",
        "*   **Mutability:** Strings are immutable, while lists are mutable. You can change, add, or remove elements from a list, but you cannot do the same directly with a string. To \"modify\" a string, you need to create a new string based on the original one.\n",
        "*   **Data Type:** Strings are specifically sequences of characters. Lists can contain elements of any data type (integers, floats, strings, other lists, etc.).\n",
        "*   **Purpose:** Strings are primarily used for working with text data. Lists are more general-purpose data structures used to store collections of various items.\n",
        "*   **Syntax:** Strings are enclosed in single quotes (`'...'`), double quotes (`\"...\"`), or triple quotes (`'''...'''` or `\"\"\"...\"\"\"`). Lists are enclosed in square brackets (`[...]`).\n",
        "\n",
        "While both strings and lists are sequences and support operations like indexing and slicing, their underlying mutability and the types of data they typically hold are key differences."
      ]
    },
    {
      "cell_type": "markdown",
      "source": [
        "# **7. How do tuples ensure data integrity in Python?**"
      ],
      "metadata": {
        "id": "6q8i5u89oxko"
      }
    },
    {
      "cell_type": "markdown",
      "metadata": {
        "id": "c876e36c"
      },
      "source": [
        "-Tuples ensure data integrity in Python primarily through their **immutability**. Because tuples cannot be changed after they are created, you can be confident that the data within a tuple will remain constant throughout the program's execution. This is particularly useful in the following scenarios:\n",
        "\n",
        "*   **Passing data to functions:** When you pass a tuple to a function, you know that the function cannot accidentally modify the original tuple. This prevents unintended side effects and makes your code more predictable.\n",
        "*   **Storing constant data:** Tuples are ideal for storing collections of data that should not be changed, such as coordinates, configuration settings, or database records.\n",
        "*   **Using as dictionary keys:** Since dictionary keys must be immutable, tuples can be used as keys, allowing you to create more complex data structures.\n",
        "\n",
        "In essence, the immutability of tuples acts as a safeguard, preventing accidental modification of data and contributing to the overall integrity and reliability of your program."
      ]
    },
    {
      "cell_type": "markdown",
      "source": [
        "# **8. What is a hash table, and how does it relate to dictionaries in Python?**"
      ],
      "metadata": {
        "id": "dCKeiogFpCNw"
      }
    },
    {
      "cell_type": "markdown",
      "metadata": {
        "id": "7f8d7985"
      },
      "source": [
        "-A hash table (also known as a hash map or dictionary in some programming languages) is a data structure that implements an associative array, which is a collection of key-value pairs. It uses a **hash function** to compute an index into an array of buckets or slots, from which the desired value can be found.\n",
        "\n",
        "Here's how it relates to dictionaries in Python:\n",
        "\n",
        "*   **Implementation:** Python dictionaries are implemented using hash tables. This is why dictionary operations, such as inserting, deleting, or looking up a value by its key, are typically very fast (on average, constant time complexity).\n",
        "*   **Hashing:** When you add a key-value pair to a dictionary, Python computes the hash value of the key using a hash function. This hash value is then used to determine where in the underlying array the key-value pair should be stored.\n",
        "*   **Collisions:** It's possible for different keys to have the same hash value (a collision). Hash tables have mechanisms to handle these collisions, such as chaining (storing multiple key-value pairs with the same hash value in a linked list) or open addressing (probing for the next available slot).\n",
        "*   **Key Requirements:** Because dictionaries use hashing, the keys must be **hashable**. This means that the hash value of a key must remain constant throughout its lifetime, and the key must be comparable to other keys. Immutable data types like strings, numbers, and tuples are hashable and can be used as dictionary keys. Mutable data types like lists and sets are not hashable and cannot be used as dictionary keys.\n",
        "\n",
        "In essence, the hash table is the underlying mechanism that makes Python dictionaries efficient for storing and retrieving data based on keys."
      ]
    },
    {
      "cell_type": "markdown",
      "source": [
        "# **9. Can lists contain different data types in Python?**"
      ],
      "metadata": {
        "id": "oFnNtjCnpMLo"
      }
    },
    {
      "cell_type": "markdown",
      "metadata": {
        "id": "16ed7be1"
      },
      "source": [
        "-Yes, lists in Python can contain elements of different data types. This is one of their key features and makes them very flexible. For example, a single list can contain integers, floats, strings, booleans, and even other lists or dictionaries.\n",
        "\n",
        "Here's an example:"
      ]
    },
    {
      "cell_type": "code",
      "metadata": {
        "colab": {
          "base_uri": "https://localhost:8080/"
        },
        "id": "7b2a5441",
        "outputId": "3017a966-8767-4080-ed78-7cc565922500"
      },
      "source": [
        "my_list = [1, \"hello\", 3.14, True, [1, 2, 3], {\"a\": 1, \"b\": 2}]\n",
        "print(my_list)"
      ],
      "execution_count": null,
      "outputs": [
        {
          "output_type": "stream",
          "name": "stdout",
          "text": [
            "[1, 'hello', 3.14, True, [1, 2, 3], {'a': 1, 'b': 2}]\n"
          ]
        }
      ]
    },
    {
      "cell_type": "markdown",
      "source": [
        "# **10. Explain why strings are immutable in Python?**"
      ],
      "metadata": {
        "id": "BHG0lFv6pdiw"
      }
    },
    {
      "cell_type": "markdown",
      "metadata": {
        "id": "6ad4dba8"
      },
      "source": [
        "-Strings are immutable in Python, which means that once a string object is created, its contents cannot be changed. When you perform operations that seem to modify a string, you are actually creating a new string object with the desired changes.\n",
        "\n",
        "There are several reasons for this design choice:\n",
        "\n",
        "*   **Efficiency:** Immutability allows for certain optimizations. For example, Python can share the same string object in memory for identical string literals, which saves memory.\n",
        "*   **Thread Safety:** In multi-threaded environments, immutable objects are inherently thread-safe because multiple threads can access them concurrently without the risk of one thread modifying the object while another is reading it.\n",
        "*   **Hashability:** Immutable objects can be used as keys in dictionaries and elements in sets because their hash value can be computed and remains constant. This is not possible with mutable objects, as their hash value could change if the object is modified.\n",
        "\n",
        "While it might seem inconvenient at times, the immutability of strings in Python contributes to the language's efficiency, safety, and predictability."
      ]
    },
    {
      "cell_type": "markdown",
      "source": [
        "# **11. What advantages do dictionaries offer over lists for certain tasks?**"
      ],
      "metadata": {
        "id": "M-CQSCqoR69e"
      }
    },
    {
      "cell_type": "markdown",
      "source": [
        "-dictionaries offer significant advantages over lists for certain tasks due to their key-value structure and underlying hash table implementation. Here are the main benefits:\n",
        "\n",
        "**Fast Lookups:** Dictionaries provide very efficient lookups, insertions, and deletions based on keys. On average, these operations have a constant time complexity (O(1)), regardless of the size of the dictionary. This is much faster than searching for an element in a list, which typically requires iterating through the list (O(n)).\n",
        "\n",
        "**Associative Access:** Dictionaries allow you to access data using meaningful keys (like names, IDs, or labels) rather than just numerical indices. This makes your code more readable and easier to understand, especially when dealing with structured data.\n",
        "\n",
        "**Representing Relationships:** Dictionaries are ideal for representing relationships between data points, where each key is uniquely associated with a specific value. This is useful for tasks like storing configuration settings, representing database records, or creating mappings between different types of information.\n",
        "\n",
        "**Flexibility:** Dictionaries can store values of different data types, and the keys can also be of various immutable types. This flexibility allows you to represent diverse and complex data structures.\n",
        "\n",
        "In summary, dictionaries are superior to lists when you need to quickly access data using a specific identifier, represent relationships between data, or work with unstructured or semi-structured data where numerical indexing is not appropriate.\n",
        "\n"
      ],
      "metadata": {
        "id": "G09ZlBm6SMNo"
      }
    },
    {
      "cell_type": "markdown",
      "source": [
        "# **12. Describe a scenario where using a tuple would be preferable over a list?**"
      ],
      "metadata": {
        "id": "A6T7r7q3TKMj"
      }
    },
    {
      "cell_type": "markdown",
      "metadata": {
        "id": "f655b12b"
      },
      "source": [
        "-A scenario where using a tuple would be preferable over a list is when you need to store a collection of items that represent a fixed set of values or a record where the order and values should not change.\n",
        "\n",
        "For example, consider representing a geographical coordinate (latitude and longitude). A coordinate is a pair of numbers that together represent a specific location. This pair should ideally remain constant. Using a tuple `(latitude, longitude)` is suitable because:\n",
        "\n",
        "*   **Immutability:** The immutability of the tuple ensures that the latitude and longitude values cannot be accidentally modified after the coordinate is defined. This maintains the integrity of the location data.\n",
        "*   **Readability:** Using a tuple clearly indicates that these two values are bound together as a single, unchangeable entity representing a coordinate.\n",
        "*   **Performance:** While often a minor consideration for small collections, tuples can be slightly more performable than lists due to their fixed size.\n",
        "*   **Use as Dictionary Keys:** If you needed to use geographical coordinates as keys in a dictionary (e.g., to store data associated with specific locations), tuples are hashable and can be used as dictionary keys, whereas lists cannot.\n",
        "\n",
        "Using a list `[latitude, longitude]` would allow for modification of the individual coordinate values, which is generally not desired for a fixed location."
      ]
    },
    {
      "cell_type": "markdown",
      "source": [
        "# **13. How do sets handle duplicate values in Python?**"
      ],
      "metadata": {
        "id": "sHKnBkkJTkq6"
      }
    },
    {
      "cell_type": "markdown",
      "metadata": {
        "id": "8339e297"
      },
      "source": [
        "-Sets in Python are inherently designed to store only unique elements. When you add elements to a set, any duplicate values are automatically discarded.\n",
        "\n",
        "Here's how it works:\n",
        "\n",
        "*   **Adding elements:** When you add an element to a set, Python checks if the element already exists in the set. If it does, the add operation is effectively ignored, and the set remains unchanged. If the element is not already in the set, it is added.\n",
        "*   **Creating sets from iterables:** When you create a set from an iterable (like a list or a tuple) that contains duplicate values, the set will only include one instance of each unique element from the iterable.\n",
        "\n",
        "This unique property of sets makes them ideal for tasks like removing duplicates from a collection or efficiently checking for membership."
      ]
    },
    {
      "cell_type": "code",
      "metadata": {
        "colab": {
          "base_uri": "https://localhost:8080/"
        },
        "id": "662af820",
        "outputId": "c3c5aaff-79a0-47d9-8bd4-1a065e88e729"
      },
      "source": [
        "# Example of a list with duplicates\n",
        "my_list = [1, 2, 2, 3, 4, 4, 5]\n",
        "print(f\"Original list with duplicates: {my_list}\")\n",
        "\n",
        "# Create a set from the list\n",
        "my_set = set(my_list)\n",
        "print(f\"Set created from the list (duplicates removed): {my_set}\")\n",
        "\n",
        "# Attempt to add a duplicate element to the set\n",
        "my_set.add(3)\n",
        "print(f\"Set after attempting to add a duplicate: {my_set}\")\n",
        "\n",
        "# Add a new element to the set\n",
        "my_set.add(6)\n",
        "print(f\"Set after adding a new element: {my_set}\")"
      ],
      "execution_count": null,
      "outputs": [
        {
          "output_type": "stream",
          "name": "stdout",
          "text": [
            "Original list with duplicates: [1, 2, 2, 3, 4, 4, 5]\n",
            "Set created from the list (duplicates removed): {1, 2, 3, 4, 5}\n",
            "Set after attempting to add a duplicate: {1, 2, 3, 4, 5}\n",
            "Set after adding a new element: {1, 2, 3, 4, 5, 6}\n"
          ]
        }
      ]
    },
    {
      "cell_type": "markdown",
      "source": [
        "# **14. How does the “in” keyword work differently for lists and dictionaries?**"
      ],
      "metadata": {
        "id": "6NKmxZ7OT83C"
      }
    },
    {
      "cell_type": "markdown",
      "metadata": {
        "id": "5e1eb711"
      },
      "source": [
        "-The `in` keyword in Python is used to check for membership within a collection. However, its behavior and efficiency differ between lists and dictionaries due to their underlying structures.\n",
        "\n",
        "**For Lists:**\n",
        "\n",
        "When you use the `in` keyword with a list, Python iterates through the list elements one by one from the beginning until it finds a match or reaches the end.\n",
        "\n",
        "*   **Behavior:** It checks if an element exists as one of the items in the list.\n",
        "*   **Efficiency:** The time complexity for checking membership in a list is O(n) on average, where 'n' is the number of elements in the list. In the worst case (the element is at the end or not in the list), Python has to check every element.\n",
        "\n",
        "**For Dictionaries:**\n",
        "\n",
        "When you use the `in` keyword with a dictionary, Python checks for the presence of a **key** in the dictionary's keys. It does not check for the presence of a value directly using `in`.\n",
        "\n",
        "*   **Behavior:** It checks if an element exists as a **key** in the dictionary.\n",
        "*   **Efficiency:** The time complexity for checking membership (of a key) in a dictionary is O(1) on average, due to the underlying hash table implementation. This is significantly faster than checking membership in a list, especially for large collections.\n",
        "\n",
        "To check if a **value** exists in a dictionary, you would typically use the `.values()` method to get a view of the values and then use `in` on that view."
      ]
    },
    {
      "cell_type": "code",
      "metadata": {
        "colab": {
          "base_uri": "https://localhost:8080/"
        },
        "id": "a1f5ae8e",
        "outputId": "6533ca9d-77b7-4b8b-8690-869c090572c5"
      },
      "source": [
        "# Example with a List\n",
        "my_list = [1, 2, 3, 4, 5]\n",
        "\n",
        "print(f\"Is 3 in the list? {3 in my_list}\")\n",
        "print(f\"Is 6 in the list? {6 in my_list}\")"
      ],
      "execution_count": null,
      "outputs": [
        {
          "output_type": "stream",
          "name": "stdout",
          "text": [
            "Is 3 in the list? True\n",
            "Is 6 in the list? False\n"
          ]
        }
      ]
    },
    {
      "cell_type": "code",
      "metadata": {
        "colab": {
          "base_uri": "https://localhost:8080/"
        },
        "id": "6665c42f",
        "outputId": "4f827161-e2f2-4350-ec1b-4265042faa6f"
      },
      "source": [
        "# Example with a Dictionary\n",
        "my_dict = {\"a\": 1, \"b\": 2, \"c\": 3}\n",
        "\n",
        "# Checking for a key\n",
        "print(f\"Is 'b' a key in the dictionary? {'b' in my_dict}\")\n",
        "print(f\"Is 'd' a key in the dictionary? {'d' in my_dict}\")\n",
        "\n",
        "# Checking for a value (requires checking values view)\n",
        "print(f\"Is 2 a value in the dictionary? {2 in my_dict.values()}\")\n",
        "print(f\"Is 4 a value in the dictionary? {4 in my_dict.values()}\")"
      ],
      "execution_count": null,
      "outputs": [
        {
          "output_type": "stream",
          "name": "stdout",
          "text": [
            "Is 'b' a key in the dictionary? True\n",
            "Is 'd' a key in the dictionary? False\n",
            "Is 2 a value in the dictionary? True\n",
            "Is 4 a value in the dictionary? False\n"
          ]
        }
      ]
    },
    {
      "cell_type": "markdown",
      "source": [
        "# **15. Can you modify the elements of a tuple? Explain why or why not?**"
      ],
      "metadata": {
        "id": "RzxmasI3UUar"
      }
    },
    {
      "cell_type": "markdown",
      "metadata": {
        "id": "9783a9b0"
      },
      "source": [
        "-You **cannot** modify the elements of a tuple after it has been created. Tuples in Python are **immutable**.\n",
        "\n",
        "This means that once a tuple is defined, you cannot change, add, or remove any of its elements. If you need to have a collection of items that can be modified, you should use a list instead.\n",
        "\n",
        "The immutability of tuples has several implications:\n",
        "\n",
        "*   **Data Integrity:** It ensures that the data within a tuple remains constant and cannot be accidentally altered.\n",
        "*   **Hashability:** Because their contents are fixed, tuples can be \"hashed\" and used as keys in dictionaries or elements in sets, which is not possible with mutable data types like lists.\n",
        "*   **Efficiency:** Immutability can allow for some internal optimizations in Python's implementation.\n",
        "\n",
        "If you need to \"modify\" a tuple, you actually have to create a *new* tuple that includes the desired changes, often by combining parts of the original tuple with new elements."
      ]
    },
    {
      "cell_type": "markdown",
      "source": [
        "# **16. What is a nested dictionary, and give an example of its use case?**"
      ],
      "metadata": {
        "id": "z_wQXZ3mUr0k"
      }
    },
    {
      "cell_type": "markdown",
      "metadata": {
        "id": "9bb79441"
      },
      "source": [
        "-A nested dictionary is a dictionary where the values are themselves dictionaries. This allows you to create hierarchical data structures, similar to how you might organize data in a tree or a nested list.\n",
        "\n",
        "You can access elements in a nested dictionary by chaining the keys. For example, to access a value in a nested dictionary `nested_dict`, you would use `nested_dict[key1][key2]`.\n",
        "\n",
        "**Use Case Example: Representing Hierarchical Data**\n",
        "\n",
        "Nested dictionaries are particularly useful for representing data that has a natural hierarchy or structure. A common example is representing data about people, organizations, or locations.\n",
        "\n",
        "Let's say you want to store information about different users, including their contact details and addresses. You could use a nested dictionary where the top-level keys are usernames, and the values are dictionaries containing the user's information."
      ]
    },
    {
      "cell_type": "code",
      "metadata": {
        "colab": {
          "base_uri": "https://localhost:8080/"
        },
        "id": "70a3a7dc",
        "outputId": "993ffadf-ca45-4d83-db16-4b6ced4022d6"
      },
      "source": [
        "user_data = {\n",
        "    \"johndoe\": {\n",
        "        \"contact\": {\n",
        "            \"email\": \"john.doe@example.com\",\n",
        "            \"phone\": \"123-456-7890\"\n",
        "        },\n",
        "        \"address\": {\n",
        "            \"street\": \"123 Main St\",\n",
        "            \"city\": \"Anytown\",\n",
        "            \"zip\": \"12345\"\n",
        "        }\n",
        "    },\n",
        "    \"janedoe\": {\n",
        "        \"contact\": {\n",
        "            \"email\": \"jane.doe@example.com\",\n",
        "            \"phone\": \"987-654-3210\"\n",
        "        },\n",
        "        \"address\": {\n",
        "            \"street\": \"456 Oak Ave\",\n",
        "            \"city\": \"Otherville\",\n",
        "            \"zip\": \"67890\"\n",
        "        }\n",
        "    }\n",
        "}\n",
        "\n",
        "# Accessing data in the nested dictionary\n",
        "print(\"John Doe's email:\", user_data[\"johndoe\"][\"contact\"][\"email\"])\n",
        "print(\"Jane Doe's city:\", user_data[\"janedoe\"][\"address\"][\"city\"])"
      ],
      "execution_count": null,
      "outputs": [
        {
          "output_type": "stream",
          "name": "stdout",
          "text": [
            "John Doe's email: john.doe@example.com\n",
            "Jane Doe's city: Otherville\n"
          ]
        }
      ]
    },
    {
      "cell_type": "markdown",
      "source": [
        "# **17. Describe the time complexity of accessing elements in a dictionary?**"
      ],
      "metadata": {
        "id": "DQYa38j1VFaw"
      }
    },
    {
      "cell_type": "markdown",
      "metadata": {
        "id": "3ead4950"
      },
      "source": [
        "-The time complexity of accessing elements in a Python dictionary is, on average, **O(1)** (constant time).\n",
        "\n",
        "This means that the time it takes to retrieve a value associated with a key does not significantly increase as the size of the dictionary grows. Whether the dictionary has 10 items or 10,000 items, accessing an element by its key takes roughly the same amount of time.\n",
        "\n",
        "This excellent average-case performance is due to the fact that dictionaries are implemented using **hash tables**. When you access an element using its key, Python uses a hash function to quickly calculate the memory address where the corresponding value is stored.\n",
        "\n",
        "However, in the worst-case scenario (which is rare in practice), the time complexity can be **O(n)** (linear time), where 'n' is the number of elements in the dictionary. This can happen in cases of hash collisions, where multiple keys hash to the same location in the hash table. While Python's hash table implementation is designed to minimize collisions, they can still occur and might require probing through a linked list or other structure to find the correct key-value pair.\n",
        "\n",
        "In summary, for most practical purposes, you can consider dictionary access to be very fast and essentially constant time."
      ]
    },
    {
      "cell_type": "markdown",
      "source": [
        "# **18. In what situations are lists preferred over dictionaries?**"
      ],
      "metadata": {
        "id": "QG-OFbcsVbww"
      }
    },
    {
      "cell_type": "markdown",
      "metadata": {
        "id": "a09476e3"
      },
      "source": [
        "-While dictionaries offer fast lookups by key, there are several situations where lists are preferred:\n",
        "\n",
        "*   **Ordered Collections:** Lists maintain the order of elements as they are inserted. If the order of your data is important and you need to access elements by their position (index), lists are the appropriate choice. Dictionaries, on the other hand, do not guarantee any specific order of elements (though in modern Python versions, they do maintain insertion order).\n",
        "\n",
        "*   **Storing Duplicate Elements:** Lists can contain duplicate elements, whereas dictionaries only store unique keys. If your collection needs to include multiple instances of the same value, you must use a list.\n",
        "\n",
        "*   **Sequential Access:** If you need to iterate through a collection in a specific order or access elements based on their position, lists are more suitable.\n",
        "\n",
        "*   **Simple, Linear Data:** For simple, linear collections of data where you primarily access elements by index or iterate through them sequentially, lists are often simpler to use and understand than dictionaries.\n",
        "\n",
        "*   **Implementing Stacks and Queues:** Lists can be easily used to implement data structures like stacks and queues, which rely on ordered access and the ability to add and remove elements from specific ends.\n",
        "\n",
        "In summary, use lists when you need an ordered collection, require the ability to store duplicate elements, or primarily access data by index or in a sequential manner."
      ]
    },
    {
      "cell_type": "markdown",
      "source": [
        "# **19. Why are dictionaries considered unordered, and how does that affect data retrieval?**"
      ],
      "metadata": {
        "id": "CO4PhQByfiBk"
      }
    },
    {
      "cell_type": "markdown",
      "metadata": {
        "id": "611fa964"
      },
      "source": [
        "-In older versions of Python (prior to 3.7), dictionaries were considered inherently unordered. This meant that the order in which you inserted key-value pairs was not guaranteed to be the order in which they were stored or retrieved. The order could even change between different runs of the same program.\n",
        "\n",
        "This lack of guaranteed order was a consequence of the dictionary's underlying hash table implementation. The hash function determines where an element is stored, and this doesn't necessarily correspond to the insertion order.\n",
        "\n",
        "**How this affected data retrieval (in older Python versions):**\n",
        "\n",
        "Because the order was not guaranteed, you could not rely on accessing elements by their position or assuming that iterating through a dictionary would yield elements in a specific sequence. If you needed ordered data, you would typically use a list of key-value pairs or an `OrderedDict` from the `collections` module.\n",
        "\n",
        "**Modern Python (3.7+):**\n",
        "\n",
        "Starting with Python 3.7, the insertion order of elements in dictionaries is guaranteed to be preserved. While they are still implemented using hash tables, the internal structure was modified to maintain the order in which items are added.\n",
        "\n",
        "**How this affects data retrieval (in modern Python):**\n",
        "\n",
        "In modern Python, you can rely on iterating through a dictionary to retrieve elements in the order they were inserted. This makes dictionaries more versatile and reduces the need for `OrderedDict` in many cases.\n",
        "\n",
        "However, it's important to remember that dictionaries are still primarily designed for fast lookups by key, not for ordered sequential access like lists. While the insertion order is preserved, accessing elements by index is not a primary operation and would be less efficient than in a list."
      ]
    },
    {
      "cell_type": "markdown",
      "source": [
        "# **20. Explain the difference between a list and a dictionary in terms of data retrieval?**"
      ],
      "metadata": {
        "id": "nJX81seMf-Ua"
      }
    },
    {
      "cell_type": "markdown",
      "metadata": {
        "id": "ba0306fe"
      },
      "source": [
        "-The main difference between how you retrieve data from a list and a dictionary in Python lies in the method of access:\n",
        "\n",
        "**Lists:**\n",
        "\n",
        "* **Access Method:** Data in a list is accessed by its **index** (position) within the list. Indices are integers, starting from 0 for the first element.\n",
        "* **Data Retrieval:** You retrieve an element by specifying its numerical position. For example, `my_list[0]` gets the first element.\n",
        "* **Order:** Lists maintain the order of elements as they are added.\n",
        "* **Efficiency of Access:** Accessing an element by index is generally very fast (O(1) on average). However, searching for a specific *value* in a list requires iterating through the list, which can be slow for large lists (O(n)).\n",
        "\n",
        "**Dictionaries:**\n",
        "\n",
        "* **Access Method:** Data in a dictionary is accessed by its **key**. Keys are unique and are used to map to specific values.\n",
        "* **Data Retrieval:** You retrieve a value by specifying its associated key. For example, `my_dict[\"my_key\"]` gets the value associated with \"my_key\".\n",
        "* **Order:** While modern Python preserves insertion order, dictionaries are not primarily designed for ordered access.\n",
        "* **Efficiency of Access:** Accessing a value by its key is very fast on average (O(1)), regardless of the size of the dictionary. This is because dictionaries use hash tables to quickly locate values based on their keys. Searching for a specific *value* in a dictionary's values view is similar to searching in a list (O(n)).\n",
        "\n",
        "In summary, use lists when you need to access data by its position or maintain a specific order. Use dictionaries when you need to access data quickly using a unique identifier (key) and the order of elements is not the primary concern."
      ]
    },
    {
      "cell_type": "markdown",
      "source": [
        "# **Practical Questions**"
      ],
      "metadata": {
        "id": "4vHd2w5UgZ1x"
      }
    },
    {
      "cell_type": "markdown",
      "source": [
        "# **1. Write a code to create a string with your name and print it?**"
      ],
      "metadata": {
        "id": "W2HP2YYEix8V"
      }
    },
    {
      "cell_type": "code",
      "metadata": {
        "colab": {
          "base_uri": "https://localhost:8080/"
        },
        "id": "4cc47782",
        "outputId": "c251f6ca-d379-438b-f1ea-1183ef125b20"
      },
      "source": [
        "my_name = \"kirti\" # Replace \"Your Name\" with your actual name\n",
        "print(my_name)"
      ],
      "execution_count": 52,
      "outputs": [
        {
          "output_type": "stream",
          "name": "stdout",
          "text": [
            "kirti\n"
          ]
        }
      ]
    },
    {
      "cell_type": "markdown",
      "source": [
        "# **2. Write a code to find the length of the string \"Hello World\"?**"
      ],
      "metadata": {
        "id": "2YDGcrsOjUfI"
      }
    },
    {
      "cell_type": "code",
      "metadata": {
        "colab": {
          "base_uri": "https://localhost:8080/"
        },
        "id": "22a42b20",
        "outputId": "1173b43b-eae1-4b37-981d-5d182953f59b"
      },
      "source": [
        "my_string = \"Hello World\"\n",
        "string_length = len(my_string)\n",
        "print(f\"The length of the string '{my_string}' is: {string_length}\")"
      ],
      "execution_count": null,
      "outputs": [
        {
          "output_type": "stream",
          "name": "stdout",
          "text": [
            "The length of the string 'Hello World' is: 11\n"
          ]
        }
      ]
    },
    {
      "cell_type": "markdown",
      "source": [
        "# **3. Write a code to slice the first 3 characters from the string \"Python Programming\"?**"
      ],
      "metadata": {
        "id": "nf0Fu9Zejq8g"
      }
    },
    {
      "cell_type": "code",
      "metadata": {
        "colab": {
          "base_uri": "https://localhost:8080/"
        },
        "id": "737e28df",
        "outputId": "d70003c5-41ac-49e6-a692-1a49d6c1b663"
      },
      "source": [
        "my_string = \"Python Programming\"\n",
        "sliced_string = my_string[:3]\n",
        "print(f\"The original string is: '{my_string}'\")\n",
        "print(f\"The first 3 characters are: '{sliced_string}'\")"
      ],
      "execution_count": null,
      "outputs": [
        {
          "output_type": "stream",
          "name": "stdout",
          "text": [
            "The original string is: 'Python Programming'\n",
            "The first 3 characters are: 'Pyt'\n"
          ]
        }
      ]
    },
    {
      "cell_type": "markdown",
      "source": [
        "# **4. Write a code to convert the string \"hello\" to uppercase?**"
      ],
      "metadata": {
        "id": "0qyNCgz6kEhg"
      }
    },
    {
      "cell_type": "code",
      "metadata": {
        "colab": {
          "base_uri": "https://localhost:8080/"
        },
        "id": "256671a0",
        "outputId": "4c4695c7-6cd6-443f-dacc-2e069b174e35"
      },
      "source": [
        "my_string = \"hello\"\n",
        "uppercase_string = my_string.upper()\n",
        "print(f\"Original string: '{my_string}'\")\n",
        "print(f\"Uppercase string: '{uppercase_string}'\")"
      ],
      "execution_count": null,
      "outputs": [
        {
          "output_type": "stream",
          "name": "stdout",
          "text": [
            "Original string: 'hello'\n",
            "Uppercase string: 'HELLO'\n"
          ]
        }
      ]
    },
    {
      "cell_type": "markdown",
      "source": [
        "# **5. Write a code to replace the word \"apple\" with \"orange\" in the string \"I like apple\"?**"
      ],
      "metadata": {
        "id": "WZftBa3yjWV9"
      }
    },
    {
      "cell_type": "code",
      "metadata": {
        "colab": {
          "base_uri": "https://localhost:8080/"
        },
        "id": "820079db",
        "outputId": "a413cba2-b55c-448d-fae2-bab458ff86c0"
      },
      "source": [
        "my_string = \"I like apple\"\n",
        "new_string = my_string.replace(\"apple\", \"orange\")\n",
        "print(f\"Original string: '{my_string}'\")\n",
        "print(f\"String after replacement: '{new_string}'\")"
      ],
      "execution_count": 2,
      "outputs": [
        {
          "output_type": "stream",
          "name": "stdout",
          "text": [
            "Original string: 'I like apple'\n",
            "String after replacement: 'I like orange'\n"
          ]
        }
      ]
    },
    {
      "cell_type": "markdown",
      "source": [
        "# **6. Write a code to create a list with numbers 1 to 5 and print it?**"
      ],
      "metadata": {
        "id": "qRqvff6xjsUI"
      }
    },
    {
      "cell_type": "code",
      "metadata": {
        "colab": {
          "base_uri": "https://localhost:8080/"
        },
        "id": "262777f8",
        "outputId": "f6d8b670-eb49-4a6d-9c8e-a92207d66433"
      },
      "source": [
        "my_list = [1, 2, 3, 4, 5]\n",
        "print(my_list)"
      ],
      "execution_count": 3,
      "outputs": [
        {
          "output_type": "stream",
          "name": "stdout",
          "text": [
            "[1, 2, 3, 4, 5]\n"
          ]
        }
      ]
    },
    {
      "cell_type": "markdown",
      "source": [
        "# **7. Write a code to append the number 10 to the list [1, 2, 3, 4]?**"
      ],
      "metadata": {
        "id": "a3wadsFZj642"
      }
    },
    {
      "cell_type": "code",
      "metadata": {
        "colab": {
          "base_uri": "https://localhost:8080/"
        },
        "id": "9e2492ca",
        "outputId": "1aa339dc-d3a4-4a7b-f158-55c35d21ca7e"
      },
      "source": [
        "my_list = [1, 2, 3, 4]\n",
        "my_list.append(10)\n",
        "print(my_list)"
      ],
      "execution_count": 5,
      "outputs": [
        {
          "output_type": "stream",
          "name": "stdout",
          "text": [
            "[1, 2, 3, 4, 10]\n"
          ]
        }
      ]
    },
    {
      "cell_type": "markdown",
      "source": [
        "# **8. Write a code to remove the number 3 from the list [1, 2, 3, 4, 5]?**"
      ],
      "metadata": {
        "id": "9jcQiPzBkcxz"
      }
    },
    {
      "cell_type": "code",
      "metadata": {
        "colab": {
          "base_uri": "https://localhost:8080/"
        },
        "id": "540b0be9",
        "outputId": "b17c621e-0dd8-43bd-915b-1048dfc9bac3"
      },
      "source": [
        "my_list = [1, 2, 3, 4, 5]\n",
        "my_list.remove(3)\n",
        "print(my_list)"
      ],
      "execution_count": 7,
      "outputs": [
        {
          "output_type": "stream",
          "name": "stdout",
          "text": [
            "[1, 2, 4, 5]\n"
          ]
        }
      ]
    },
    {
      "cell_type": "markdown",
      "source": [
        "# **9. Write a code to access the second element in the list ['a', 'b', 'c', 'd']?**"
      ],
      "metadata": {
        "id": "G_biStSKkuLb"
      }
    },
    {
      "cell_type": "code",
      "metadata": {
        "colab": {
          "base_uri": "https://localhost:8080/"
        },
        "id": "a9795306",
        "outputId": "b36a5296-dcf4-442e-ad99-f9d499dae90b"
      },
      "source": [
        "my_list = ['a', 'b', 'c', 'd']\n",
        "second_element = my_list[1]  # Index 1 corresponds to the second element\n",
        "print(f\"The list is: {my_list}\")\n",
        "print(f\"The second element is: {second_element}\")"
      ],
      "execution_count": 9,
      "outputs": [
        {
          "output_type": "stream",
          "name": "stdout",
          "text": [
            "The list is: ['a', 'b', 'c', 'd']\n",
            "The second element is: b\n"
          ]
        }
      ]
    },
    {
      "cell_type": "markdown",
      "source": [
        "# **10. Write a code to reverse the list [10, 20, 30, 40, 50]?**"
      ],
      "metadata": {
        "id": "jhy6dRSblAt0"
      }
    },
    {
      "cell_type": "code",
      "metadata": {
        "colab": {
          "base_uri": "https://localhost:8080/"
        },
        "id": "ed62a7db",
        "outputId": "855654f7-c5c8-48ab-d587-2a0989c0ccf2"
      },
      "source": [
        "my_list = [10, 20, 30, 40, 50]\n",
        "my_list.reverse()\n",
        "print(my_list)"
      ],
      "execution_count": 11,
      "outputs": [
        {
          "output_type": "stream",
          "name": "stdout",
          "text": [
            "[50, 40, 30, 20, 10]\n"
          ]
        }
      ]
    },
    {
      "cell_type": "markdown",
      "source": [
        "# **11. Write a code to create a tuple with the elements 100, 200, 300 and print it?**"
      ],
      "metadata": {
        "id": "CmaphjCDlUBr"
      }
    },
    {
      "cell_type": "code",
      "metadata": {
        "colab": {
          "base_uri": "https://localhost:8080/"
        },
        "id": "021b9724",
        "outputId": "69c9931b-f48d-42a1-92b6-57b496b7edb6"
      },
      "source": [
        "my_tuple = (100, 200, 300)\n",
        "print(my_tuple)"
      ],
      "execution_count": 13,
      "outputs": [
        {
          "output_type": "stream",
          "name": "stdout",
          "text": [
            "(100, 200, 300)\n"
          ]
        }
      ]
    },
    {
      "cell_type": "markdown",
      "source": [
        "# **12. Write a code to access the second-to-last element of the tuple ('red', 'green', 'blue', 'yellow')?**"
      ],
      "metadata": {
        "id": "QrfweIEGl0op"
      }
    },
    {
      "cell_type": "code",
      "metadata": {
        "colab": {
          "base_uri": "https://localhost:8080/"
        },
        "id": "e52c230f",
        "outputId": "9988779b-a0b4-4d8b-fbf7-5e313f2d2b75"
      },
      "source": [
        "my_tuple = ('red', 'green', 'blue', 'yellow')\n",
        "second_to_last_element = my_tuple[-2]  # -2 is the index for the second-to-last element\n",
        "print(f\"The tuple is: {my_tuple}\")\n",
        "print(f\"The second-to-last element is: {second_to_last_element}\")"
      ],
      "execution_count": 15,
      "outputs": [
        {
          "output_type": "stream",
          "name": "stdout",
          "text": [
            "The tuple is: ('red', 'green', 'blue', 'yellow')\n",
            "The second-to-last element is: blue\n"
          ]
        }
      ]
    },
    {
      "cell_type": "markdown",
      "source": [
        "# **13. Write a code to find the minimum number in the tuple (10, 20, 5, 15).**"
      ],
      "metadata": {
        "id": "ahf88NEFmH-6"
      }
    },
    {
      "cell_type": "code",
      "metadata": {
        "colab": {
          "base_uri": "https://localhost:8080/"
        },
        "id": "c0933523",
        "outputId": "394c5b95-bcb5-44aa-ec3d-1f34890d1781"
      },
      "source": [
        "my_tuple = (10, 20, 5, 15)\n",
        "minimum_number = min(my_tuple)\n",
        "print(f\"The tuple is: {my_tuple}\")\n",
        "print(f\"The minimum number is: {minimum_number}\")"
      ],
      "execution_count": 17,
      "outputs": [
        {
          "output_type": "stream",
          "name": "stdout",
          "text": [
            "The tuple is: (10, 20, 5, 15)\n",
            "The minimum number is: 5\n"
          ]
        }
      ]
    },
    {
      "cell_type": "markdown",
      "source": [
        "## **14. Write a code to find the index of the element \"cat\" in the tuple ('dog', 'cat', 'rabbit').**"
      ],
      "metadata": {
        "id": "U0Bj--EKmbDv"
      }
    },
    {
      "cell_type": "code",
      "metadata": {
        "colab": {
          "base_uri": "https://localhost:8080/"
        },
        "id": "4284cdfd",
        "outputId": "971e28da-f41a-4d2b-af98-346096ad9a4c"
      },
      "source": [
        "my_tuple = ('dog', 'cat', 'rabbit')\n",
        "element_to_find = 'cat'\n",
        "index_of_element = my_tuple.index(element_to_find)\n",
        "\n",
        "print(f\"The tuple is: {my_tuple}\")\n",
        "print(f\"The index of '{element_to_find}' is: {index_of_element}\")"
      ],
      "execution_count": 19,
      "outputs": [
        {
          "output_type": "stream",
          "name": "stdout",
          "text": [
            "The tuple is: ('dog', 'cat', 'rabbit')\n",
            "The index of 'cat' is: 1\n"
          ]
        }
      ]
    },
    {
      "cell_type": "markdown",
      "source": [
        "# **15. Write a code to create a tuple containing three different fruits and check if \"kiwi\" is in it.**"
      ],
      "metadata": {
        "id": "HjajE2bVmptI"
      }
    },
    {
      "cell_type": "code",
      "metadata": {
        "colab": {
          "base_uri": "https://localhost:8080/"
        },
        "id": "e4d4bf63",
        "outputId": "667f64cd-13d8-4097-ab2f-1303a1740ded"
      },
      "source": [
        "fruits_tuple = ('apple', 'banana', 'orange')\n",
        "check_kiwi = \"kiwi\" in fruits_tuple\n",
        "\n",
        "print(f\"The tuple of fruits is: {fruits_tuple}\")\n",
        "print(f\"Is 'kiwi' in the tuple? {check_kiwi}\")"
      ],
      "execution_count": 21,
      "outputs": [
        {
          "output_type": "stream",
          "name": "stdout",
          "text": [
            "The tuple of fruits is: ('apple', 'banana', 'orange')\n",
            "Is 'kiwi' in the tuple? False\n"
          ]
        }
      ]
    },
    {
      "cell_type": "markdown",
      "source": [
        "# **16. Write a code to create a set with the elements 'a', 'b', 'c' and print it.**"
      ],
      "metadata": {
        "id": "yHx9lONpm4N1"
      }
    },
    {
      "cell_type": "code",
      "metadata": {
        "colab": {
          "base_uri": "https://localhost:8080/"
        },
        "id": "59b85046",
        "outputId": "f7f8418a-b57d-4e7b-dc8b-afd1cdde0c7b"
      },
      "source": [
        "my_set = {'a', 'b', 'c'}\n",
        "print(my_set)"
      ],
      "execution_count": 23,
      "outputs": [
        {
          "output_type": "stream",
          "name": "stdout",
          "text": [
            "{'a', 'c', 'b'}\n"
          ]
        }
      ]
    },
    {
      "cell_type": "markdown",
      "source": [
        "# **17. Write a code to clear all elements from the set {1, 2, 3, 4, 5}.**"
      ],
      "metadata": {
        "id": "r7N_vQ6JnI5P"
      }
    },
    {
      "cell_type": "code",
      "metadata": {
        "colab": {
          "base_uri": "https://localhost:8080/"
        },
        "id": "072149b5",
        "outputId": "29600e1f-7196-4420-f391-dbe0139c7dc9"
      },
      "source": [
        "my_set = {1, 2, 3, 4, 5}\n",
        "my_set.clear()\n",
        "print(my_set)"
      ],
      "execution_count": 25,
      "outputs": [
        {
          "output_type": "stream",
          "name": "stdout",
          "text": [
            "set()\n"
          ]
        }
      ]
    },
    {
      "cell_type": "markdown",
      "source": [
        "# **18. Write a code to remove the element 4 from the set {1, 2, 3, 4}.**"
      ],
      "metadata": {
        "id": "u7SI5PrhnUBh"
      }
    },
    {
      "cell_type": "code",
      "metadata": {
        "colab": {
          "base_uri": "https://localhost:8080/"
        },
        "id": "b70141d8",
        "outputId": "137ebfbc-5f33-44ac-eba7-65c976b9db99"
      },
      "source": [
        "my_set = {1, 2, 3, 4}\n",
        "my_set.remove(4)\n",
        "print(my_set)"
      ],
      "execution_count": 27,
      "outputs": [
        {
          "output_type": "stream",
          "name": "stdout",
          "text": [
            "{1, 2, 3}\n"
          ]
        }
      ]
    },
    {
      "cell_type": "markdown",
      "source": [
        "# **19. Write a code to find the union of two sets {1, 2, 3} and {3, 4, 5}.**"
      ],
      "metadata": {
        "id": "7lXi0rq5ne4l"
      }
    },
    {
      "cell_type": "code",
      "metadata": {
        "colab": {
          "base_uri": "https://localhost:8080/"
        },
        "id": "a33f29e6",
        "outputId": "3102f146-06b6-4af2-d6cc-c7b7c5c8923a"
      },
      "source": [
        "set1 = {1, 2, 3}\n",
        "set2 = {3, 4, 5}\n",
        "\n",
        "# Using the union operator\n",
        "union_set = set1 | set2\n",
        "print(f\"Union using operator |: {union_set}\")\n",
        "\n",
        "# Using the union() method\n",
        "union_set_method = set1.union(set2)\n",
        "print(f\"Union using union() method: {union_set_method}\")"
      ],
      "execution_count": 29,
      "outputs": [
        {
          "output_type": "stream",
          "name": "stdout",
          "text": [
            "Union using operator |: {1, 2, 3, 4, 5}\n",
            "Union using union() method: {1, 2, 3, 4, 5}\n"
          ]
        }
      ]
    },
    {
      "cell_type": "markdown",
      "source": [
        "## **20. Write a code to find the intersection of two sets {1, 2, 3} and {2, 3, 4}.**"
      ],
      "metadata": {
        "id": "clpk4M3Wnvtr"
      }
    },
    {
      "cell_type": "code",
      "metadata": {
        "colab": {
          "base_uri": "https://localhost:8080/"
        },
        "id": "59d5f88b",
        "outputId": "c35ce455-0388-4f12-d229-a805f1aabf00"
      },
      "source": [
        "set1 = {1, 2, 3}\n",
        "set2 = {2, 3, 4}\n",
        "\n",
        "# Using the intersection operator\n",
        "intersection_set = set1 & set2\n",
        "print(f\"Intersection using operator &: {intersection_set}\")\n",
        "\n",
        "# Using the intersection() method\n",
        "intersection_set_method = set1.intersection(set2)\n",
        "print(f\"Intersection using intersection() method: {intersection_set_method}\")"
      ],
      "execution_count": 31,
      "outputs": [
        {
          "output_type": "stream",
          "name": "stdout",
          "text": [
            "Intersection using operator &: {2, 3}\n",
            "Intersection using intersection() method: {2, 3}\n"
          ]
        }
      ]
    },
    {
      "cell_type": "markdown",
      "source": [
        "# **21. Write a code to create a dictionary with the keys \"name\", \"age\", and \"city\", and print it.**"
      ],
      "metadata": {
        "id": "t4kLdNJEoCm5"
      }
    },
    {
      "cell_type": "code",
      "metadata": {
        "colab": {
          "base_uri": "https://localhost:8080/"
        },
        "id": "ba685e32",
        "outputId": "ad2c70db-e662-46e9-9e80-c761be6d8861"
      },
      "source": [
        "my_dict = {\"name\": \"Your Name\", \"age\": \"Your Age\", \"city\": \"Your City\"} # Replace with actual values\n",
        "print(my_dict)"
      ],
      "execution_count": 33,
      "outputs": [
        {
          "output_type": "stream",
          "name": "stdout",
          "text": [
            "{'name': 'Your Name', 'age': 'Your Age', 'city': 'Your City'}\n"
          ]
        }
      ]
    },
    {
      "cell_type": "markdown",
      "source": [
        "# **22. Write a code to add a new key-value pair \"country\": \"USA\" to the dictionary {'name': 'John', 'age': 25}.**"
      ],
      "metadata": {
        "id": "6SHhnIrMoaMh"
      }
    },
    {
      "cell_type": "code",
      "metadata": {
        "colab": {
          "base_uri": "https://localhost:8080/"
        },
        "id": "53c41e4a",
        "outputId": "80e868fa-2685-4487-e6b7-44e5df48cf2a"
      },
      "source": [
        "my_dict = {'name': 'John', 'age': 25}\n",
        "my_dict[\"country\"] = \"USA\"\n",
        "print(my_dict)"
      ],
      "execution_count": 35,
      "outputs": [
        {
          "output_type": "stream",
          "name": "stdout",
          "text": [
            "{'name': 'John', 'age': 25, 'country': 'USA'}\n"
          ]
        }
      ]
    },
    {
      "cell_type": "markdown",
      "source": [
        "# **23. Write a code to access the value associated with the key \"name\" in the dictionary {'name': 'Alice', 'age': 30}.**"
      ],
      "metadata": {
        "id": "Seu9GW5VomHc"
      }
    },
    {
      "cell_type": "code",
      "metadata": {
        "colab": {
          "base_uri": "https://localhost:8080/"
        },
        "id": "f083e5b8",
        "outputId": "ade3d5b5-b8c5-4ba5-9f61-cbd3aa3a9a3f"
      },
      "source": [
        "my_dict = {'name': 'Alice', 'age': 30}\n",
        "name_value = my_dict[\"name\"]\n",
        "print(f\"The dictionary is: {my_dict}\")\n",
        "print(f\"The value associated with the key 'name' is: {name_value}\")"
      ],
      "execution_count": 37,
      "outputs": [
        {
          "output_type": "stream",
          "name": "stdout",
          "text": [
            "The dictionary is: {'name': 'Alice', 'age': 30}\n",
            "The value associated with the key 'name' is: Alice\n"
          ]
        }
      ]
    },
    {
      "cell_type": "markdown",
      "source": [
        "# **24. Write a code to remove the key \"age\" from the dictionary {'name': 'Bob', 'age': 22, 'city': 'New York'}.**"
      ],
      "metadata": {
        "id": "KSolcMCso27r"
      }
    },
    {
      "cell_type": "code",
      "metadata": {
        "colab": {
          "base_uri": "https://localhost:8080/"
        },
        "id": "78af4828",
        "outputId": "253c38c9-25f1-4d8e-efc8-0e48543eaaf4"
      },
      "source": [
        "my_dict = {'name': 'Bob', 'age': 22, 'city': 'New York'}\n",
        "del my_dict[\"age\"]\n",
        "print(my_dict)"
      ],
      "execution_count": 39,
      "outputs": [
        {
          "output_type": "stream",
          "name": "stdout",
          "text": [
            "{'name': 'Bob', 'city': 'New York'}\n"
          ]
        }
      ]
    },
    {
      "cell_type": "markdown",
      "source": [
        "# **25. Write a code to check if the key \"city\" exists in the dictionary {'name': 'Alice', 'city': 'Paris'}.**"
      ],
      "metadata": {
        "id": "fMNqQbdipDxK"
      }
    },
    {
      "cell_type": "code",
      "metadata": {
        "colab": {
          "base_uri": "https://localhost:8080/"
        },
        "id": "8b5e41c4",
        "outputId": "ddadad76-ee90-47e5-cfcb-20b8af0efd1b"
      },
      "source": [
        "my_dict = {'name': 'Alice', 'city': 'Paris'}\n",
        "check_key = \"city\" in my_dict\n",
        "\n",
        "print(f\"The dictionary is: {my_dict}\")\n",
        "print(f\"Does the key 'city' exist in the dictionary? {check_key}\")"
      ],
      "execution_count": 41,
      "outputs": [
        {
          "output_type": "stream",
          "name": "stdout",
          "text": [
            "The dictionary is: {'name': 'Alice', 'city': 'Paris'}\n",
            "Does the key 'city' exist in the dictionary? True\n"
          ]
        }
      ]
    },
    {
      "cell_type": "markdown",
      "source": [
        "# **26. Write a code to create a list, a tuple, and a dictionary, and print them all.**\n",
        "\n"
      ],
      "metadata": {
        "id": "h56OC_HUpaap"
      }
    },
    {
      "cell_type": "code",
      "metadata": {
        "colab": {
          "base_uri": "https://localhost:8080/"
        },
        "id": "b8133429",
        "outputId": "b249b49b-b599-4b65-ef58-3b223e923cf6"
      },
      "source": [
        "# Create a list\n",
        "my_list = [1, 2, 3, 'a', 'b']\n",
        "print(\"My List:\", my_list)\n",
        "\n",
        "# Create a tuple\n",
        "my_tuple = (10, 20, 'x', 'y')\n",
        "print(\"My Tuple:\", my_tuple)\n",
        "\n",
        "# Create a dictionary\n",
        "my_dict = {'name': 'John', 'age': 30, 'city': 'New York'}\n",
        "print(\"My Dictionary:\", my_dict)"
      ],
      "execution_count": 43,
      "outputs": [
        {
          "output_type": "stream",
          "name": "stdout",
          "text": [
            "My List: [1, 2, 3, 'a', 'b']\n",
            "My Tuple: (10, 20, 'x', 'y')\n",
            "My Dictionary: {'name': 'John', 'age': 30, 'city': 'New York'}\n"
          ]
        }
      ]
    },
    {
      "cell_type": "markdown",
      "source": [
        "# **27. Write a code to create a list of 5 random numbers between 1 and 100, sort it in ascending order, and print the result.(replaced)**"
      ],
      "metadata": {
        "id": "qes11_jQpoAl"
      }
    },
    {
      "cell_type": "code",
      "metadata": {
        "colab": {
          "base_uri": "https://localhost:8080/"
        },
        "id": "fda7ae81",
        "outputId": "b1571a2d-34f0-49a5-a8d1-875cd2e9b53d"
      },
      "source": [
        "import random\n",
        "\n",
        "# Create a list of 5 random numbers between 1 and 100\n",
        "random_numbers = [random.randint(1, 100) for _ in range(5)]\n",
        "print(f\"Original list of random numbers: {random_numbers}\")\n",
        "\n",
        "# Sort the list in ascending order\n",
        "random_numbers.sort()\n",
        "print(f\"Sorted list in ascending order: {random_numbers}\")"
      ],
      "execution_count": 45,
      "outputs": [
        {
          "output_type": "stream",
          "name": "stdout",
          "text": [
            "Original list of random numbers: [61, 59, 4, 12, 28]\n",
            "Sorted list in ascending order: [4, 12, 28, 59, 61]\n"
          ]
        }
      ]
    },
    {
      "cell_type": "markdown",
      "source": [
        "# **28. Write a code to create a list with strings and print the element at the third index.**\n",
        "\n"
      ],
      "metadata": {
        "id": "QGYMdklqp95F"
      }
    },
    {
      "cell_type": "code",
      "metadata": {
        "colab": {
          "base_uri": "https://localhost:8080/"
        },
        "id": "e6f0f65b",
        "outputId": "f8c1381b-cf82-49ff-abe4-063810ee853e"
      },
      "source": [
        "my_string_list = [\"apple\", \"banana\", \"cherry\", \"date\", \"elderberry\"]\n",
        "print(f\"The list is: {my_string_list}\")\n",
        "print(f\"The element at the third index is: {my_string_list[2]}\") # Index 2 is the third element"
      ],
      "execution_count": 47,
      "outputs": [
        {
          "output_type": "stream",
          "name": "stdout",
          "text": [
            "The list is: ['apple', 'banana', 'cherry', 'date', 'elderberry']\n",
            "The element at the third index is: cherry\n"
          ]
        }
      ]
    },
    {
      "cell_type": "markdown",
      "source": [
        "# **29. Write a code to combine two dictionaries into one and print the result.**\n",
        "\n"
      ],
      "metadata": {
        "id": "MCAeo0tzqdiv"
      }
    },
    {
      "cell_type": "code",
      "metadata": {
        "colab": {
          "base_uri": "https://localhost:8080/"
        },
        "id": "09df5cc8",
        "outputId": "6635537e-160d-49b4-9c6a-f62dc87ba30c"
      },
      "source": [
        "dict1 = {\"a\": 1, \"b\": 2}\n",
        "dict2 = {\"c\": 3, \"d\": 4}\n",
        "\n",
        "# Method 1: Using update()\n",
        "combined_dict_update = dict1.copy() # Create a copy to avoid modifying the original dict1\n",
        "combined_dict_update.update(dict2)\n",
        "print(f\"Combined dictionary using update(): {combined_dict_update}\")\n",
        "\n",
        "# Method 2: Using the ** operator (Python 3.5+)\n",
        "combined_dict_operator = {**dict1, **dict2}\n",
        "print(f\"Combined dictionary using ** operator: {combined_dict_operator}\")"
      ],
      "execution_count": 49,
      "outputs": [
        {
          "output_type": "stream",
          "name": "stdout",
          "text": [
            "Combined dictionary using update(): {'a': 1, 'b': 2, 'c': 3, 'd': 4}\n",
            "Combined dictionary using ** operator: {'a': 1, 'b': 2, 'c': 3, 'd': 4}\n"
          ]
        }
      ]
    },
    {
      "cell_type": "markdown",
      "source": [
        "# **30. Write a code to convert a list of strings into a set.**"
      ],
      "metadata": {
        "id": "mckNIOx_quXz"
      }
    },
    {
      "cell_type": "code",
      "metadata": {
        "colab": {
          "base_uri": "https://localhost:8080/"
        },
        "id": "2f904b10",
        "outputId": "edc8e799-d0c2-4b2f-a6af-9e0d32a0ad63"
      },
      "source": [
        "my_list = [\"apple\", \"banana\", \"cherry\", \"apple\", \"date\"]\n",
        "my_set = set(my_list)\n",
        "\n",
        "print(f\"Original list: {my_list}\")\n",
        "print(f\"Converted set: {my_set}\")"
      ],
      "execution_count": 51,
      "outputs": [
        {
          "output_type": "stream",
          "name": "stdout",
          "text": [
            "Original list: ['apple', 'banana', 'cherry', 'apple', 'date']\n",
            "Converted set: {'apple', 'banana', 'date', 'cherry'}\n"
          ]
        }
      ]
    }
  ]
}